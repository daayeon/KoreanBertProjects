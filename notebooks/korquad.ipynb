{
 "cells": [
  {
   "cell_type": "markdown",
   "metadata": {},
   "source": [
    "# KorQuad 데이터 정제"
   ]
  },
  {
   "cell_type": "code",
   "execution_count": 1,
   "metadata": {},
   "outputs": [],
   "source": [
    "# 기본 라이브러리 호출\n",
    "import json\n",
    "import numpy as np\n",
    "import pandas as pd\n",
    "import matplotlib.pyplot as plt\n",
    "%matplotlib inline\n",
    "\n",
    "# 자연어처리를 위한 라이브러리 호출\n",
    "from konlpy.tag import Komoran, Okt\n",
    "import pickle\n",
    "import os\n",
    "from glob import glob"
   ]
  },
  {
   "cell_type": "code",
   "execution_count": 2,
   "metadata": {},
   "outputs": [],
   "source": [
    "# %%time\n",
    "paths = [path.replace('\\\\', '/') for path in glob('./train/*.json')]\n",
    "# res = []\n",
    "# for path in paths:\n",
    "#     with open(path, encoding='utf-8') as data_file:\n",
    "#         res.extend(json.load(data_file))\n",
    "# df = pd.DataFrame(res)"
   ]
  },
  {
   "cell_type": "code",
   "execution_count": 4,
   "metadata": {},
   "outputs": [
    {
     "data": {
      "text/plain": [
       "[]"
      ]
     },
     "execution_count": 4,
     "metadata": {},
     "output_type": "execute_result"
    }
   ],
   "source": [
    "paths"
   ]
  },
  {
   "cell_type": "code",
   "execution_count": 6,
   "metadata": {},
   "outputs": [],
   "source": [
    "f  = open(paths[1], encoding='utf-8')"
   ]
  },
  {
   "cell_type": "code",
   "execution_count": 7,
   "metadata": {},
   "outputs": [],
   "source": [
    "a = json.load(f)"
   ]
  },
  {
   "cell_type": "code",
   "execution_count": 12,
   "metadata": {},
   "outputs": [
    {
     "data": {
      "text/plain": [
       "[{'question': '김상만의 주요 활동내역은 무엇이 있을까?',\n",
       "  'id': '70633',\n",
       "  'answer': {'text': '<p>대외적인 활동으로는 1971년 아시아신문재단(PFA) 이사로 선임되어 1976년 4월에는 아시아신문재단 회장에 피선되었으며, 1979년에는 국제신문협회(IPI) 본부이사로 선임되었다가 1986년 5월에는 명예 종신회원에 추대되었다. 1964년부터 1978년까지는 한영협회(韓英協會) 회장을 맡았고, 1982년에는 고려대학교 재단인 학교법인 고려중앙학원 이사장으로 교육사업에도 힘을 쏟았으며, 재단법인 동아꿈나무재단을 설립하여 이사장을 맡았다.\\n</p><p>그 밖에도 교육과 장학 사업에도 가담하여 고학생들의 후견인을 자처하였고, 재단법인 의양언론재단 이사, 한국정신박약아보호협회 이사, 한양로타리클럽 회장 한국박물관회 회장, 한영수교 １백주년 기념사업위원장을 맡는 등 폭넓은 사회활동을 전개하였다. 1994년 6월 동아일보에서는 광화문 사옥 1, 2층에 김상만의 호를 따서 ‘일민문화관’을 개관하였으며, 같은 해 7월에는 유족 친지들의 재산출연으로 ‘일민문화재단’을 설립하여 문화·학술연구지원 및 국제교류사업을 펼치기로 하였다. 그는 시종일관 군사정권과 척을 지었지만 <a>1987년</a> <a>노태우 정부</a>에 호의적이었고, <a>1992년</a>에는 <a>김영삼</a>을 적극 지원하여 당선에 기여하였다.\\n</p>',\n",
       "   'html_answer_text': '<p>대외적인 활동으로는 1971년 아시아신문재단(PFA) 이사로 선임되어 1976년 4월에는 아시아신문재단 회장에 피선되었으며, 1979년에는 국제신문협회(IPI) 본부이사로 선임되었다가 1986년 5월에는 명예 종신회원에 추대되었다. 1964년부터 1978년까지는 한영협회(韓英協會) 회장을 맡았고, 1982년에는 고려대학교 재단인 학교법인 고려중앙학원 이사장으로 교육사업에도 힘을 쏟았으며, 재단법인 동아꿈나무재단을 설립하여 이사장을 맡았다.\\n</p><p>그 밖에도 교육과 장학 사업에도 가담하여 고학생들의 후견인을 자처하였고, 재단법인 의양언론재단 이사, 한국정신박약아보호협회 이사, 한양로타리클럽 회장 한국박물관회 회장, 한영수교 １백주년 기념사업위원장을 맡는 등 폭넓은 사회활동을 전개하였다. 1994년 6월 동아일보에서는 광화문 사옥 1, 2층에 김상만의 호를 따서 ‘일민문화관’을 개관하였으며, 같은 해 7월에는 유족 친지들의 재산출연으로 ‘일민문화재단’을 설립하여 문화·학술연구지원 및 국제교류사업을 펼치기로 하였다. 그는 시종일관 군사정권과 척을 지었지만 <a href=\"/wiki/1987%EB%85%84\" title=\"1987년\">1987년</a> <a href=\"/wiki/%EB%85%B8%ED%83%9C%EC%9A%B0_%EC%A0%95%EB%B6%80\" title=\"노태우 정부\">노태우 정부</a>에 호의적이었고, <a href=\"/wiki/1992%EB%85%84\" title=\"1992년\">1992년</a>에는 <a href=\"/wiki/%EA%B9%80%EC%98%81%EC%82%BC\" title=\"김영삼\">김영삼</a>을 적극 지원하여 당선에 기여하였다.\\n</p>',\n",
       "   'answer_start': 4585,\n",
       "   'html_answer_start': 21885}},\n",
       " {'question': '김상만이 1989년에 받은 상은?',\n",
       "  'id': '22429',\n",
       "  'answer': {'text': '프랑스 정부 공로 훈장',\n",
       "   'html_answer_text': '프랑스 정부 공로 훈장',\n",
       "   'answer_start': 8122,\n",
       "   'html_answer_start': 31596}}]"
      ]
     },
     "execution_count": 12,
     "metadata": {},
     "output_type": "execute_result"
    }
   ],
   "source": [
    "a['data'][1]['qas']"
   ]
  },
  {
   "cell_type": "code",
   "execution_count": 8,
   "metadata": {
    "scrolled": true
   },
   "outputs": [
    {
     "data": {
      "text/plain": [
       "'<!DOCTYPE html>\\n<html>\\n<head>\\n<meta>\\n<title>프레이밍 - 위키백과, 우리 모두의 백과사전</title>\\n\\n\\n<link>\\n\\n<meta>\\n<link>\\n<meta>\\n<meta>\\n<meta>\\n<meta>\\n<link>\\n<link>\\n<link>\\n<link>\\n<link>\\n<link>\\n<link>\\n<link>\\n<link>\\n<link>\\n<link>\\n\\n</head>\\n<body>\\n<div></div>\\n<div></div>\\n<div>\\n<a></a>\\n<div></div>\\n<div>\\n</div>\\n<h1>프레이밍</h1>\\n<div>\\n<div>위키백과, 우리 모두의 백과사전.</div>\\n<div></div>\\n<div></div>\\n<a>둘러보기로 가기</a>\\n<a>검색하러 가기</a>\\n<div><div><p><b>프레이밍</b>(<span><a>영어</a>: </span><span>framing</span>, 구조화)은 사진을 찍을 때에 피사체를 파인더의 테두리 안에 적절히 배치하여 화면을 구성하는 일이다. 즉, 화면의 구도와 구성을 정하는 것이다.<sup><a>[1]</a></sup>\\n</p><p>프레이밍은 어떤 사건을 이해하거나 반응하기 위하여 일화적 지식이나 전형적 기억 등을 바탕으로 그 사건을 해석하기 위한 뜻을 형성하는 행동에 대한 사회과학적 이론이기도 하다.<sup><a>[2]</a></sup> <a>행동경제학</a>자 <a>다니엘 카너먼</a>은 이를 위험이 있는 인지된 이득과 위험이 있는 인지된 손해를 다르게 생각하는 일반적인 경향이라고 하였다. 또한 행동경제학자 아모스 트버스키와 다니엘 카너먼은 <a>프레임</a>(Frame)을 \\'의사결정자의 어떤 특정한 선택에 따른 행동, 결과 그리고 만일의 경우까지 고려하는 이해\\'라고 정의하였다.<sup><a>[3]</a></sup><sup><a>[4]</a></sup><sup><a>[5]</a></sup><sup><a>[6]</a></sup>\\n</p><p>언어학자 <a>조지 레이코프</a>가 발표한 프레임 이론(Frame theory)에서 프레임이란 현대인들이 정치ㆍ사회적 의제를 인식하는 과정에서 본질과 의미, 사건과 사실 사이의 관계를 정하는 직관적 틀을 뜻한다. 프레임 이론에 따르면, 전략적으로 짜인 틀을 제시해 대중의 사고 틀을 먼저 규정하는 쪽이 정치적으로 승리하며, 이를 반박하려는 노력은 오히려 프레임을 강화하는 딜레마에 빠지게 된다는 것이다.<sup><a>[7]</a></sup><sup><a>[8]</a></sup>\\n</p><p>프레이밍은 미디어 연구, 사회학, 심리학, 경제학 등에서 사용되며 특히 어떤 정치적·사회적 움직임이나 사건들에 대해 매스미디어에 의해 사회적으로 형성되는 해석을 만드는 일 혹은 <a>여론 조작</a>을 말하기도 한다.<sup><a>[9]</a></sup>\\n</p><p>프레이밍 효과(구조화 효과, <a>en:Framing effect (psychology)</a>)는 문제의 표현 방식에 따라 동일한 사건이나 상황임에도 불구하고 개인의 판단이나 선택이 달라질 수 있는 현상을 말한다. 이때 제공되는 인식의 틀을 프레임이라고 하고, 이 틀은 정보를 제공받은 자의 의사결정에 영향을 미치게 된다. 인간은 일생에 걸쳐 정신적·감정적 이해를 위한 틀이 형성되는데 이러한 틀은 세상을 이해하는 데 사용되고 사람이 어떤 결정을 하는 데 영향을 주게 된다. 이 효과는 마케팅 분야에 접목되어 널리 사용될 수 있다.<sup><a>[9]</a></sup><sup><a>[10]</a></sup>\\n</p>\\n<div><input><div><h2>목차</h2><span><label></label></span></div>\\n<ul>\\n<li><a><span>1</span> <span>사회학</span></a></li>\\n<li><a><span>2</span> <span>경제학</span></a>\\n<ul>\\n<li><a><span>2.1</span> <span>실험</span></a></li>\\n<li><a><span>2.2</span> <span>절대와 상대 영향</span></a></li>\\n</ul>\\n</li>\\n<li><a><span>3</span> <span>관련서적</span></a></li>\\n<li><a><span>4</span> <span>같이 보기</span></a></li>\\n<li><a><span>5</span> <span>각주</span></a></li>\\n<li><a><span>6</span> <span>외부 링크</span></a></li>\\n</ul>\\n</div>\\n<h2><span></span><span>사회학</span><span><span>[</span><a>편집</a><span>]</span></span></h2>\\n<p>프레이밍 이론(틀짓기 이론)과 프레임 분석은 커뮤니케이션 연구, 뉴스, 정치 그리고 사회운동과 같은 다양한 분야를 연구 분석하기 위한 광범위한 이론적 방법을 제시하였다. 이미 서술에 있어 적절한 단어와 어조를 선택하는 것은 태고 때부터의 일이지만 <a>1974년</a> 어빙 고프만이 쓴 《프레임 분석》에 의해 프레이밍의 개념이 제시되었다. 고프만은 프레임의 아이디어를 \\'해석의 설계\\'라고 이름을 지었으며 이것은 개인들이나 단체로 하여금 어떤 사건이나 상황의 발생을 인지하고 위치하게 하고 알아보고 이름 짓는 것을 가능하게 한다고 하였다. 이는 의미를 부여하고 경험을 조직화하며 조직된 행동을 만들어 내도록 한다.<sup><a>[11]</a></sup><sup><a>[12]</a></sup>\\n</p><p>프레임과 관련한 유명한 예시가 있다. 물이 절반가량 들어 있는 컵을 보고 A는 ‘절반 밖에 안 남았다’고 하고, B는 ‘절반씩이나 남았다’고 하는 것이다. A와 B가 동일한 상황을 보고 다른 판단을 하는 이유는 두 사람이 갖고 있는 틀(프레임)이 다르기 때문이다.<sup><a>[10]</a></sup>\\n</p><p>프레이밍 이론의 예시로 좌익 정치를 묘사하는 표현인 \\'진보적(progressive)\\'이라는 단어를 들 수 있다. 이는 개선·전진이라는 긍정적인 의미를 내포하고 있기 때문에, 자연적으로 우익이 퇴보·후퇴라는 의미로 받아들일 수 있도록 한다. 이 외에도 \\'친생명적\\'(pro-life)라는 표현도 하나 예시이다.<sup><a>[13]</a></sup>\\n</p>\\n<h2><span></span><span>경제학</span><span><span>[</span><a>편집</a><span>]</span></span></h2>\\n<p><a>행동경제학</a>자 아모스 트버스키와 다니엘 카너먼의 연구는 의사결정에 있어 전통적인 이성적 선택이 설명하지 못하던 것을 설명하는 새로운 이론이 필요함을 보여주었고 이성적 선택 이론의 대안으로서 <a>전망이론</a>으로 발전하였다. 아모스 트버스키와 다니엘 카너먼은 <a>1981년</a> 연구에서 같은 문제를 다른 방식으로 제시했을 때 다르게 해석되는 점을 보여주었다.<sup><a>[3]</a></sup>\\n</p>\\n<h3><span></span><span>실험</span><span><span>[</span><a>편집</a><span>]</span></span></h3>\\n<p>아시아의 질병에 관련된 문제에서 \"미국에서 흔하지 않은 아시아의 질병이 발병된다면 600명이 죽게 될 것으로 예상된다. 이에 대처하기 위한 다음과 같은 두 가지 방법이 제안 되었다. 이 방법이 가져다줄 결과에 대해 과학적으로 정확한 것이 어떤 것인지 예상해 보시요.\"\\n</p><p>첫 번째 그룹의 응답자에게 다음 두 가지 중 하나를 선택하게 하였다.\\n</p>\\n<ul><li>프로그램 A: 200명을 구할 수 있다.</li>\\n<li>프로그램 B: 600명 중 3분의 1의 확률로 모두를 구할 수 있다. 그리고 3분의 2의 확률로 아무도 구할 수 없을 것이다.</li></ul>\\n<p>--&gt;72퍼센트의 응답자가 A를 선호하였고 28퍼센트는 B를 선호하였다.\\n</p><p>두 번째 그룹의 응답자에게 다음 두가지 중 하나를 선택하게 하였다.\\n</p>\\n<ul><li>프로그램 C: 400명이 죽을 것이다.</li>\\n<li>프로그램 D: 3분의 1의 확률로 아무도 죽지 않을 것이고 3분의 2의 확률로 모두 죽을 것이다.</li></ul>\\n<p>--&gt;78퍼센트의 응답자가 D를 선호하였고 22퍼센트는 C를 선호하였다.\\n</p><p>사실 프로그램 A와 C는 같으며 B와 D 또한 같다. 이 두 그룹의 응답자 사이의 결정 프레임의 변화는 선호의 역전을 가져와서 처음 그룹은 A/C를 선호하고 두 번째 그룹은 B/D를 선호하게 되었다.<sup><a>[14]</a></sup>\\n</p>\\n<h3><span></span><span>절대와 상대 영향</span><span><span>[</span><a>편집</a><span>]</span></span></h3>\\n<p>프레이밍 효과는 결정자가 여러 시나리오들 중 하나의 결정을 내리려고 할 때 일어난다. 여기서 결정의 시나리오는 이득이나 상대적 위험 감소 혹은 절대적 위험 감소로 표현될 수 있다. 지각적인 구분에 대한 외적인 제어가 결정자에 의해 채택되었을 때 상대적 위험과 절대적 이득의 표현으로 바뀌어 받아들여진다.\\n</p><p>사람들은 일반적으로 절대적인 확실성을 선호하여 이득이 주어지는 것이 확실할 때 \\'긍정적 프레이밍 효과\\'를 보인다. 그러나 결정 조건이 만약 \\'아마도\\' 이득이 주어 진다고 할 때는 위험을 줄이는 선택이 주도하게 된다. 위험을 선호하는 행동으로의 전환은 부정적인 면에서 결정자가 결정을 프레이밍할 때 \\'부정적 프레이밍 효과\\'를 받아들이게 된다.\\n</p>\\n<h2><span></span><span>관련서적</span><span><span>[</span><a>편집</a><span>]</span></span></h2>\\n<ul><li>조윤호. 《프레임 대 프레임》. 한빛비즈. 2017년. <a>ISBN</a>\\xa0<a>9791157841769</a></li></ul>\\n<h2><span></span><span>같이 보기</span><span><span>[</span><a>편집</a><span>]</span></span></h2>\\n<ul><li><a>프레임</a></li></ul>\\n<h2><span></span><span>각주</span><span><span>[</span><a>편집</a><span>]</span></span></h2>\\n<div>\\n<div><ol>\\n<li><span><a>↑</a></span> <span>진달래. <a>후지필름 하반기 신제품 4종…콤팩트, 미러리스까지</a>. 머니투데이. 2014년 9월 11일.</span>\\n</li>\\n<li><span><a>↑</a></span> <span><a>Frame analysis;</a> <a>Archived</a> 2008년 12월 23일 - <a>웨이백 머신</a> Goffman, Erving. <i>Frame Analysis: An essay on the organization of experience,</i></span>\\n</li>\\n<li><span>↑ <sup><a>가</a></sup> <sup><a>나</a></sup></span> <span>장경덕. <a>정글경제엔 어떤 인간이 살까</a>. 네이버캐스트. 2010년 1월 18일.</span>\\n</li>\\n<li><span><a>↑</a></span> <span>로라 랭. <a>행동경제학, 케인스와 프리드먼 이후 \\'제3의 길\\'</a>. 프레시안. 기사입력 2013년 7월 14일. 최종수정 2013년 7월 15일.</span>\\n</li>\\n<li><span><a>↑</a></span> <span>진경호. <a>무소속 프레임</a>. 서울신문. 2012년 10월 19일.</span>\\n</li>\\n<li><span><a>↑</a></span> <span><a>[1]</a> Behavioral management accounting, Ahmed Riahi-Belkaoui, 2001</span>\\n</li>\\n<li><span><a>↑</a></span> <span><a>탈권위 → 경제 → 복지 … 프레임 잘 잡아야 권력도 잡는다</a>. 중앙SUNDAY. 2014년 7월 13일.</span>\\n</li>\\n<li><span><a>↑</a></span> <span>신종철. <a>설훈 “대통령 연애 얘기 거짓말이라 생각”…발끈 새누리당 “윤리위 제소 검토”</a> <a>Archived</a> 2014년 9월 13일 - <a>웨이백 머신</a>. 로이슈. 2014년 9월 12일.</span>\\n</li>\\n<li><span>↑ <sup><a>가</a></sup> <sup><a>나</a></sup></span> <span>이재진. <a>\"야당, 세월호 반정부 투쟁 치중\" 조선일보 여론조사 논란</a>. 미디어오늘. 2014년 8월 28일.</span>\\n</li>\\n<li><span>↑ <sup><a>가</a></sup> <sup><a>나</a></sup></span> <span><a>알고 보면 놀라운 신문 속 숫자 의미</a>. 위키트리. 2014년 8월 20일.</span>\\n</li>\\n<li><span><a>↑</a></span> <span>Erving Goffman (1974). <i>Frame Analysis: An essay on the organization of experience</i>. Cambridge: Harvard University Press. 1974. page 21.</span>\\n</li>\\n<li><span><a>↑</a></span> <span>김용출. <a>日 ‘어젠다·프레임 연동’ 전략</a>. 세계일보. 2012년 9월 16일.</span>\\n</li>\\n<li><span><a>↑</a></span> <span>오미영·정인숙, 《커뮤니케이션 핵심 이론: 알기 쉬운 커뮤니케이션 길라잡이》, 2005년, 289면</span>\\n</li>\\n<li><span><a>↑</a></span> <span>R. M. Entman, 1993, \"Framing: Toward Clarification of a Fractured Paradigm\", Journal of Communication 43(4), Autumn, pages 53-54.</span>\\n</li>\\n</ol></div></div>\\n<h2><span></span><span>외부 링크</span><span><span>[</span><a>편집</a><span>]</span></span></h2>\\n<ul><li>김진혁. <a>프레임과 중간층 (1부)</a>. 뉴스타파. 2014년 8월 27일.<br/> 김진혁. <a>프레임과 중간층 (2부)</a>. 뉴스타파. 2014년 9월 11일.</li></ul>\\n<div><table><tbody><tr><th colspan=\"2\"><div><ul><li><a><abbr>v</abbr></a></li><li><a><abbr>d</abbr></a></li><li><a><abbr>e</abbr></a></li><li><a><abbr>h</abbr></a></li></ul></div><div><a>매스 커뮤니케이션 이론</a></div></th></tr><tr><td colspan=\"2\"><div>\\n<ul><li><a>미디어 결정론</a></li>\\n<li><a>이용과 충족 이론</a></li>\\n<li><a>미디어 의존 이론</a></li>\\n<li><a>의제설정 이론</a></li>\\n<li><a>배양 이론</a></li>\\n<li><a>문화연구 이론</a></li>\\n<li><a>침묵의 나선 이론</a></li>\\n<li><a>제3자 효과</a></li>\\n<li><a>틀짓기 이론</a></li>\\n<li><a>점화 효과 이론</a></li>\\n<li><a>지식격차 이론</a></li></ul>\\n</div></td></tr></tbody></table></div>\\n<div><table><tbody><tr><th colspan=\"2\"><div><ul><li><a><abbr>v</abbr></a></li><li><a><abbr>d</abbr></a></li><li><a><abbr>e</abbr></a></li><li><a><abbr>h</abbr></a></li></ul></div><div><a>역정보</a></div></th></tr><tr><th>유형</th><td><div>\\n<ul><li><a>대안적 사실</a></li>\\n<li><a>큰 거짓말</a></li>\\n<li><a>순환인용</a></li>\\n<li><a>기만</a></li>\\n<li><a>이중화법</a></li>\\n<li><a>에코챔버 현상</a></li>\\n<li><a>완곡어법</a></li>\\n<li><a>팩토이드</a></li>\\n<li><a>가짜뉴스</a></li>\\n<li><a>오류</a></li>\\n<li><a>무고</a></li>\\n<li><a>위장술책</a></li>\\n<li><a>필터 버블</a></li>\\n<li><a>가스라이팅</a></li>\\n<li><a>절반의 진실</a></li>\\n<li><a>악희</a></li>\\n<li><a>프레이밍</a></li>\\n<li><a>인터넷 조작</a></li>\\n<li><a>여론조작</a></li>\\n<li><a>탈진실</a></li>\\n<li><a>선전</a></li>\\n<li><a>몰맥락한 인용</a></li>\\n<li><a>날조</a></li>\\n<li><a>중상모략</a></li>\\n<li><a>Social bot</a></li>\\n<li><a>스핀</a></li>\\n<li><a>황색언론</a></li></ul>\\n</div></td></tr><tr><th>역정보 공작</th><td><div>\\n<ul><li><a>1995년 CIA 역정보 논란</a></li>\\n<li><a>CIA 케네디 암살 음모론</a></li>\\n<li><a>무선경기</a></li>\\n<li><a>하부시 서한</a></li>\\n<li><a>로드맵 첩보작전</a></li>\\n<li><a>Jihadunspun.com</a></li>\\n<li><a>존스타운 음모론</a></li>\\n<li><a>K-1000급 전함</a></li>\\n<li><a>마프카라트 알 이슬람</a></li>\\n<li><a>게지 공원 시위 관련 검열과 역정보</a></li>\\n<li><a>모하메드 아타와 프라하 커넥션</a></li>\\n<li><a>니제르 우라늄 조작사건</a></li>\\n<li><a>인펙티온 작전</a></li>\\n<li><a>해왕성 작전</a></li>\\n<li><a>쇼커 작전</a></li>\\n<li><a>큰부리새 작전</a></li>\\n<li><a>교황 비오 12세와 러시아</a></li>\\n<li><a>러시아의 2016년 미국 대통령 선거 개입</a></li>\\n<li><a>12좌 작전</a></li>\\n<li><a>긴장전략</a></li>\\n<li><a>인터넷 연구국</a></li>\\n<li><a>미육군 야전교범 30-31B호</a></li>\\n<li><a>웹 여단</a></li>\\n<li><a>노란 비 사건</a></li></ul>\\n</div></td></tr><tr><th>역정보 대응</th><td><div>\\n<ul><li><a>능동방법실무단</a></li>\\n<li><a>오정보대응반</a></li>\\n<li><a>해외 선전 및 역정보 대응법</a></li>\\n<li><a>동방전략사령반</a></li>\\n<li><a>FactCheck.org</a></li>\\n<li><a>폴리티팩트</a></li>\\n<li><a>Snopes.com</a></li>\\n<li><a>미국 정보국(USIA)</a></li></ul>\\n</div></td></tr><tr><td colspan=\"2\"><div>관련 연속기획: {{<a>사기</a>}} \\xa0<span>·</span>  {{<a>여론조작</a>}} \\xa0<span>·</span>  {{<a>선전</a>}}</div></td></tr></tbody></table></div>\\n<div><table><tbody><tr><th colspan=\"2\"><div><ul><li><a><abbr>v</abbr></a></li><li><a><abbr>d</abbr></a></li><li><a><abbr>e</abbr></a></li><li><a><abbr>h</abbr></a></li></ul></div><div><a>선전</a></div></th></tr><tr><td colspan=\"2\"><div>\\n<ul><li><a>인신 공격의 오류</a></li>\\n<li><a>편승 효과</a></li>\\n<li><a>버즈워드</a></li>\\n<li><a>체리 피킹</a></li>\\n<li><a>검열</a></li>\\n<li><a>역정보</a></li>\\n<li><a>더블스피크</a></li>\\n<li><a>프레이밍</a></li>\\n<li><a>부인주의</a></li>\\n<li><a>가짜뉴스</a></li>\\n<li><a>뉴스피크</a></li>\\n<li><a>몽매주의</a></li>\\n<li><a>PR</a></li>\\n<li><a>표어</a></li>\\n<li><a>그쪽이야말로주의</a></li></ul>\\n</div></td></tr></tbody></table></div>\\n\\n\\n\\n</div><noscript><img></noscript></div>\\n<div>원본 주소 \"<a>https://ko.wikipedia.org/w/index.php?title=프레이밍&amp;oldid=24191848</a>\"</div>\\n<div><div><a>분류</a>: <ul><li><a>심리학</a></li><li><a>경제학</a></li><li><a>매스 커뮤니케이션 이론</a></li><li><a>이론</a></li></ul></div><div>숨은 분류: <ul><li><a>영어 표기를 포함한 문서</a></li></ul></div></div>\\n<div></div>\\n</div>\\n</div>\\n<div>\\n<h2>둘러보기 메뉴</h2>\\n<div>\\n<div>\\n<h3>개인 도구</h3>\\n<ul>\\n<li>로그인하지 않음</li><li><a>토론</a></li><li><a>기여</a></li><li><a>계정 만들기</a></li><li><a>로그인</a></li> </ul>\\n</div>\\n<div>\\n<div>\\n<h3>이름공간</h3>\\n<ul>\\n<li><span><a>문서</a></span></li><li><span><a>토론</a></span></li> </ul>\\n</div>\\n<div>\\n<input>\\n<h3>\\n<span>변수</span>\\n</h3>\\n<ul>\\n</ul>\\n</div>\\n</div>\\n<div>\\n<div>\\n<h3>보기</h3>\\n<ul>\\n<li><span><a>읽기</a></span></li><li><span><a>편집</a></span></li><li><span><a>역사 보기</a></span></li> </ul>\\n</div>\\n<div>\\n<input>\\n<h3><span>더 보기</span></h3>\\n<ul>\\n</ul>\\n</div>\\n<div>\\n<h3>\\n<label>검색</label>\\n</h3>\\n<form>\\n<div>\\n<input><input><input><input> </div>\\n</form>\\n</div>\\n</div>\\n</div>\\n<div>\\n<div><a></a></div>\\n<div>\\n<h3>둘러보기</h3>\\n<div>\\n<ul>\\n<li><a>대문</a></li><li><a>사용자 모임</a></li><li><a>요즘 화제</a></li><li><a>최근 바뀜</a></li><li><a>모든 문서 보기</a></li><li><a>임의 문서로</a></li><li><a>도움말</a></li><li><a>기부</a></li> </ul>\\n</div>\\n</div>\\n<div>\\n<h3>도구</h3>\\n<div>\\n<ul>\\n<li><a>여기를 가리키는 문서</a></li><li><a>가리키는 글의 최근 바뀜</a></li><li><a>파일 올리기</a></li><li><a>특수 문서 목록</a></li><li><a>고유 링크</a></li><li><a>문서 정보</a></li><li><a>위키데이터 항목</a></li><li><a>이 문서 인용하기</a></li> </ul>\\n</div>\\n</div>\\n<div>\\n<h3>인쇄/내보내기</h3>\\n<div>\\n<ul>\\n<li><a>책 만들기</a></li><li><a>PDF로 다운로드</a></li><li><a>인쇄용 판</a></li> </ul>\\n</div>\\n</div>\\n<div>\\n<h3>다른 언어</h3>\\n<div>\\n<ul>\\n<li><a>Català</a></li><li><a>Dansk</a></li><li><a>Deutsch</a></li><li><a>English</a></li><li><a>Esperanto</a></li><li><a>Español</a></li><li><a>فارسی</a></li><li><a>Français</a></li><li><a>עברית</a></li><li><a>Hrvatski</a></li><li><a>Magyar</a></li><li><a>Italiano</a></li><li><a>Nederlands</a></li><li><a>Português</a></li><li><a>Русский</a></li><li><a>ไทย</a></li><li><a>Українська</a></li><li><a>中文</a></li> </ul>\\n<div><span><a>링크 편집</a></span></div> </div>\\n</div>\\n</div>\\n</div>\\n<div>\\n<ul>\\n<li> 이 문서는 2019년 5월 11일 (토) 15:43에 마지막으로 편집되었습니다.</li>\\n<li>모든 문서는 <a>크리에이티브 커먼즈 저작자표시-동일조건변경허락 3.0</a>에 따라 사용할 수 있으며, 추가적인 조건이 적용될 수 있습니다. 자세한 내용은 <a>이용 약관</a>을 참고하십시오.<br/>Wikipedia®는 미국 및 다른 국가에 등록되어 있는 <a>Wikimedia Foundation, Inc.</a> 소유의 등록 상표입니다.</li>\\n</ul>\\n<ul>\\n<li><a>개인정보 정책</a></li>\\n<li><a>위키백과 소개</a></li>\\n<li><a>면책 조항</a></li>\\n<li><a>개발자</a></li>\\n<li><a>쿠키 정책</a></li>\\n<li><a>모바일 보기</a></li>\\n</ul>\\n<ul>\\n<li>\\n<a><img></a> </li>\\n<li>\\n<a><img></a> </li>\\n</ul>\\n<div></div>\\n</div>\\n\\n\\n\\n</body>\\n</html>\\n'"
      ]
     },
     "execution_count": 8,
     "metadata": {},
     "output_type": "execute_result"
    }
   ],
   "source": [
    "a['data'][0]['context']"
   ]
  },
  {
   "cell_type": "code",
   "execution_count": 9,
   "metadata": {},
   "outputs": [
    {
     "data": {
      "text/plain": [
       "[{'question': '프레이밍이라는 이론을 처음 제시한 사람은 누구일까?',\n",
       "  'id': '8548',\n",
       "  'answer': {'text': '어빙 고프만',\n",
       "   'html_answer_text': '어빙 고프만',\n",
       "   'answer_start': 2480,\n",
       "   'html_answer_start': 10654}}]"
      ]
     },
     "execution_count": 9,
     "metadata": {},
     "output_type": "execute_result"
    }
   ],
   "source": [
    "a['data'][0]['qas']"
   ]
  },
  {
   "cell_type": "code",
   "execution_count": 49,
   "metadata": {},
   "outputs": [
    {
     "data": {
      "text/plain": [
       "'프레이밍'"
      ]
     },
     "execution_count": 49,
     "metadata": {},
     "output_type": "execute_result"
    }
   ],
   "source": [
    "a['data'][0]['title']"
   ]
  },
  {
   "cell_type": "code",
   "execution_count": 50,
   "metadata": {},
   "outputs": [
    {
     "data": {
      "text/plain": [
       "'https://ko.wikipedia.org/wiki/프레이밍'"
      ]
     },
     "execution_count": 50,
     "metadata": {},
     "output_type": "execute_result"
    }
   ],
   "source": [
    "a['data'][0]['url']"
   ]
  },
  {
   "cell_type": "code",
   "execution_count": 48,
   "metadata": {},
   "outputs": [],
   "source": [
    "f.close()"
   ]
  },
  {
   "cell_type": "code",
   "execution_count": null,
   "metadata": {},
   "outputs": [],
   "source": []
  }
 ],
 "metadata": {
  "kernelspec": {
   "display_name": "basic",
   "language": "python",
   "name": "basic"
  },
  "language_info": {
   "codemirror_mode": {
    "name": "ipython",
    "version": 3
   },
   "file_extension": ".py",
   "mimetype": "text/x-python",
   "name": "python",
   "nbconvert_exporter": "python",
   "pygments_lexer": "ipython3",
   "version": "3.6.9"
  }
 },
 "nbformat": 4,
 "nbformat_minor": 2
}
