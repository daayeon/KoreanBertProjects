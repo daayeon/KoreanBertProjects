{
 "cells": [
  {
   "cell_type": "code",
   "execution_count": 1,
   "metadata": {},
   "outputs": [],
   "source": [
    "import nltk"
   ]
  },
  {
   "cell_type": "code",
   "execution_count": 3,
   "metadata": {},
   "outputs": [
    {
     "name": "stderr",
     "output_type": "stream",
     "text": [
      "[nltk_data] Downloading package nps_chat to\n",
      "[nltk_data]     C:\\Users\\jinma\\AppData\\Roaming\\nltk_data...\n",
      "[nltk_data]   Unzipping corpora\\nps_chat.zip.\n"
     ]
    },
    {
     "data": {
      "text/plain": [
       "True"
      ]
     },
     "execution_count": 3,
     "metadata": {},
     "output_type": "execute_result"
    }
   ],
   "source": [
    "nltk.download('nps_chat')"
   ]
  },
  {
   "cell_type": "code",
   "execution_count": 4,
   "metadata": {},
   "outputs": [],
   "source": [
    "posts = nltk.corpus.nps_chat.xml_posts()[:10000]"
   ]
  },
  {
   "cell_type": "code",
   "execution_count": 5,
   "metadata": {},
   "outputs": [
    {
     "data": {
      "text/plain": [
       "[<Element 'Post' at 0x0000023315141A48>, <Element 'Post' at 0x0000023316141368>, ...]"
      ]
     },
     "execution_count": 5,
     "metadata": {},
     "output_type": "execute_result"
    }
   ],
   "source": [
    "posts"
   ]
  },
  {
   "cell_type": "code",
   "execution_count": 7,
   "metadata": {},
   "outputs": [],
   "source": [
    "def dialogue_act_features(post, idx):\n",
    "    features = {}\n",
    "    if idx % 500 == 0:\n",
    "        print(post)\n",
    "    for word in nltk.word_tokenize(post):\n",
    "        features['contains({})'.format(word.lower())] = True\n",
    "    return features"
   ]
  },
  {
   "cell_type": "code",
   "execution_count": 9,
   "metadata": {},
   "outputs": [
    {
     "name": "stdout",
     "output_type": "stream",
     "text": [
      "now im left with this gay name\n",
      "ummm\n",
      "party hair??? seriously? lmao\n",
      "JOIN\n",
      "hey there 10-19-40sUser55\n",
      "Ima be 27 on Wednesday, 10-19-adultsUser32\n",
      "tc 10-24-40sUser26 \n",
      "at what time\n",
      "JOIN\n",
      "lol ok 11-06-adultsUser5\n",
      "JOIN\n",
      "i'm sure there is a troll out there for you 11-08-20sUser21\n",
      "thanx 11-08-40sUser52\n",
      "not you 11-08-adultsUser56\n",
      "11-08-adultsUser30....... your like the walmart greeter.. only time i see you type is when someone comes in lol\n",
      "yeas\n",
      "=] Hi 11-09-20sUser114\n",
      "ya think 11-09-40sUser22???\n",
      "was bout 80 here 11-09-40sUser52\n",
      "JOIN\n"
     ]
    }
   ],
   "source": [
    "feature_sets = [(dialogue_act_features(post.text, idx), post.get('class'))\n",
    "                for (idx, post) in enumerate(posts)]"
   ]
  },
  {
   "cell_type": "code",
   "execution_count": 18,
   "metadata": {},
   "outputs": [
    {
     "name": "stdout",
     "output_type": "stream",
     "text": [
      "0.668\n"
     ]
    }
   ],
   "source": [
    "size = int(len(feature_sets) * 0.1)\n",
    "train_set, test_set = feature_sets[size:], feature_sets[:size]\n",
    "classifier = nltk.NaiveBayesClassifier.train(train_set)\n",
    "print(nltk.classify.accuracy(classifier, test_set))"
   ]
  },
  {
   "cell_type": "code",
   "execution_count": null,
   "metadata": {},
   "outputs": [],
   "source": []
  }
 ],
 "metadata": {
  "kernelspec": {
   "display_name": "basic",
   "language": "python",
   "name": "basic"
  },
  "language_info": {
   "codemirror_mode": {
    "name": "ipython",
    "version": 3
   },
   "file_extension": ".py",
   "mimetype": "text/x-python",
   "name": "python",
   "nbconvert_exporter": "python",
   "pygments_lexer": "ipython3",
   "version": "3.6.9"
  }
 },
 "nbformat": 4,
 "nbformat_minor": 2
}
