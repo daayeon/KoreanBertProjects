{
 "cells": [
  {
   "cell_type": "code",
   "execution_count": 1,
   "metadata": {},
   "outputs": [],
   "source": [
    "import numpy as np\n",
    "import pandas as pd\n",
    "import matplotlib.pyplot as plt\n",
    "%matplotlib inline"
   ]
  },
  {
   "cell_type": "code",
   "execution_count": 4,
   "metadata": {},
   "outputs": [],
   "source": [
    "df = pd.read_csv('C:\\\\Users\\jinma\\Downloads\\챗봇지식_차도리FAQ_20191205_(391건)_보안해제.csv')"
   ]
  },
  {
   "cell_type": "code",
   "execution_count": 9,
   "metadata": {},
   "outputs": [
    {
     "data": {
      "text/plain": [
       "질문    우리아이특약을 가입 중 아이가 스쿨존 내에서 유치원 버스를 타고 있다가 사고가 난 ...\n",
       "답변    스쿨존 특약은 스쿨존에서 보행중 사고시 보상되는데 탑승 중 사고라 보상되지 않습니다...\n",
       "Name: 0, dtype: object"
      ]
     },
     "execution_count": 9,
     "metadata": {},
     "output_type": "execute_result"
    }
   ],
   "source": [
    "df.loc[0, ['질문', '답변']]"
   ]
  },
  {
   "cell_type": "code",
   "execution_count": 12,
   "metadata": {},
   "outputs": [
    {
     "data": {
      "text/plain": [
       "07.자동차보상       164\n",
       "06.자동차보험       148\n",
       "10.홈페이지/모바일     37\n",
       "04.장기보험금청구      19\n",
       "08.장기보험         16\n",
       "09.고객            4\n",
       "00.공통            2\n",
       "01.보험계약조회        1\n",
       "Name: 업무선택, dtype: int64"
      ]
     },
     "execution_count": 12,
     "metadata": {},
     "output_type": "execute_result"
    }
   ],
   "source": [
    "df.업무선택.value_counts()"
   ]
  },
  {
   "cell_type": "code",
   "execution_count": 14,
   "metadata": {},
   "outputs": [
    {
     "data": {
      "text/html": [
       "<div>\n",
       "<style scoped>\n",
       "    .dataframe tbody tr th:only-of-type {\n",
       "        vertical-align: middle;\n",
       "    }\n",
       "\n",
       "    .dataframe tbody tr th {\n",
       "        vertical-align: top;\n",
       "    }\n",
       "\n",
       "    .dataframe thead th {\n",
       "        text-align: right;\n",
       "    }\n",
       "</style>\n",
       "<table border=\"1\" class=\"dataframe\">\n",
       "  <thead>\n",
       "    <tr style=\"text-align: right;\">\n",
       "      <th></th>\n",
       "      <th>지식No</th>\n",
       "      <th>유형</th>\n",
       "      <th>업무선택</th>\n",
       "      <th>하위유형 입력</th>\n",
       "      <th>질문</th>\n",
       "      <th>태그(구분자 , #필요)</th>\n",
       "      <th>답변</th>\n",
       "      <th>기능연결</th>\n",
       "      <th>답변유형</th>\n",
       "      <th>비고</th>\n",
       "      <th>1차검토의견</th>\n",
       "      <th>재검토완료</th>\n",
       "      <th>검토부서</th>\n",
       "      <th>검토결과</th>\n",
       "    </tr>\n",
       "  </thead>\n",
       "  <tbody>\n",
       "    <tr>\n",
       "      <th>44</th>\n",
       "      <td>550</td>\n",
       "      <td>스마트차도리FAQ</td>\n",
       "      <td>01.보험계약조회</td>\n",
       "      <td>가입내역</td>\n",
       "      <td>보험사에 가입된 내역을 한번에 확인해볼 조회하려면 어떻게 하나요?</td>\n",
       "      <td>#가입내역#계약조회</td>\n",
       "      <td>손해생명보험협회를 통해 타 보험회사에 가입되어 있는 보험계약을 확인하실 수 있습니다...</td>\n",
       "      <td>NaN</td>\n",
       "      <td>텍스트</td>\n",
       "      <td>NaN</td>\n",
       "      <td>NaN</td>\n",
       "      <td>NaN</td>\n",
       "      <td>장기계약관리파트&amp;\\n자보상품업무파트</td>\n",
       "      <td>NaN</td>\n",
       "    </tr>\n",
       "  </tbody>\n",
       "</table>\n",
       "</div>"
      ],
      "text/plain": [
       "    지식No         유형       업무선택 하위유형 입력                                    질문  \\\n",
       "44   550  스마트차도리FAQ  01.보험계약조회    가입내역  보험사에 가입된 내역을 한번에 확인해볼 조회하려면 어떻게 하나요?   \n",
       "\n",
       "   태그(구분자 , #필요)                                                 답변 기능연결 답변유형  \\\n",
       "44    #가입내역#계약조회  손해생명보험협회를 통해 타 보험회사에 가입되어 있는 보험계약을 확인하실 수 있습니다...  NaN  텍스트   \n",
       "\n",
       "     비고 1차검토의견 재검토완료                 검토부서  검토결과  \n",
       "44  NaN    NaN   NaN  장기계약관리파트&\\n자보상품업무파트   NaN  "
      ]
     },
     "execution_count": 14,
     "metadata": {},
     "output_type": "execute_result"
    }
   ],
   "source": [
    "df[df.업무선택 == '01.보험계약조회']"
   ]
  },
  {
   "cell_type": "code",
   "execution_count": 20,
   "metadata": {},
   "outputs": [
    {
     "data": {
      "text/plain": [
       "인증서      17\n",
       "기타문의      6\n",
       "회원        5\n",
       "로그인       3\n",
       "이벤트       3\n",
       "공인인증서     1\n",
       "기타        1\n",
       "포인트       1\n",
       "Name: 하위유형 입력, dtype: int64"
      ]
     },
     "execution_count": 20,
     "metadata": {},
     "output_type": "execute_result"
    }
   ],
   "source": [
    "df[df.업무선택 == '10.홈페이지/모바일']['하위유형 입력'].value_counts()"
   ]
  },
  {
   "cell_type": "code",
   "execution_count": 33,
   "metadata": {},
   "outputs": [
    {
     "data": {
      "text/html": [
       "<div>\n",
       "<style scoped>\n",
       "    .dataframe tbody tr th:only-of-type {\n",
       "        vertical-align: middle;\n",
       "    }\n",
       "\n",
       "    .dataframe tbody tr th {\n",
       "        vertical-align: top;\n",
       "    }\n",
       "\n",
       "    .dataframe thead th {\n",
       "        text-align: right;\n",
       "    }\n",
       "</style>\n",
       "<table border=\"1\" class=\"dataframe\">\n",
       "  <thead>\n",
       "    <tr style=\"text-align: right;\">\n",
       "      <th></th>\n",
       "      <th>업무선택</th>\n",
       "      <th>하위유형 입력</th>\n",
       "      <th>지식No</th>\n",
       "    </tr>\n",
       "  </thead>\n",
       "  <tbody>\n",
       "    <tr>\n",
       "      <th>0</th>\n",
       "      <td>00.공통</td>\n",
       "      <td>공통</td>\n",
       "      <td>1</td>\n",
       "    </tr>\n",
       "    <tr>\n",
       "      <th>1</th>\n",
       "      <td>00.공통</td>\n",
       "      <td>서비스센터</td>\n",
       "      <td>1</td>\n",
       "    </tr>\n",
       "    <tr>\n",
       "      <th>2</th>\n",
       "      <td>01.보험계약조회</td>\n",
       "      <td>가입내역</td>\n",
       "      <td>1</td>\n",
       "    </tr>\n",
       "    <tr>\n",
       "      <th>3</th>\n",
       "      <td>04.장기보험금청구</td>\n",
       "      <td>개인정보활용동의</td>\n",
       "      <td>1</td>\n",
       "    </tr>\n",
       "    <tr>\n",
       "      <th>4</th>\n",
       "      <td>04.장기보험금청구</td>\n",
       "      <td>견인비용</td>\n",
       "      <td>1</td>\n",
       "    </tr>\n",
       "    <tr>\n",
       "      <th>...</th>\n",
       "      <td>...</td>\n",
       "      <td>...</td>\n",
       "      <td>...</td>\n",
       "    </tr>\n",
       "    <tr>\n",
       "      <th>179</th>\n",
       "      <td>10.홈페이지/모바일</td>\n",
       "      <td>로그인</td>\n",
       "      <td>3</td>\n",
       "    </tr>\n",
       "    <tr>\n",
       "      <th>180</th>\n",
       "      <td>10.홈페이지/모바일</td>\n",
       "      <td>이벤트</td>\n",
       "      <td>3</td>\n",
       "    </tr>\n",
       "    <tr>\n",
       "      <th>181</th>\n",
       "      <td>10.홈페이지/모바일</td>\n",
       "      <td>인증서</td>\n",
       "      <td>17</td>\n",
       "    </tr>\n",
       "    <tr>\n",
       "      <th>182</th>\n",
       "      <td>10.홈페이지/모바일</td>\n",
       "      <td>포인트</td>\n",
       "      <td>1</td>\n",
       "    </tr>\n",
       "    <tr>\n",
       "      <th>183</th>\n",
       "      <td>10.홈페이지/모바일</td>\n",
       "      <td>회원</td>\n",
       "      <td>5</td>\n",
       "    </tr>\n",
       "  </tbody>\n",
       "</table>\n",
       "<p>184 rows × 3 columns</p>\n",
       "</div>"
      ],
      "text/plain": [
       "            업무선택   하위유형 입력  지식No\n",
       "0          00.공통        공통     1\n",
       "1          00.공통     서비스센터     1\n",
       "2      01.보험계약조회      가입내역     1\n",
       "3     04.장기보험금청구  개인정보활용동의     1\n",
       "4     04.장기보험금청구      견인비용     1\n",
       "..           ...       ...   ...\n",
       "179  10.홈페이지/모바일       로그인     3\n",
       "180  10.홈페이지/모바일       이벤트     3\n",
       "181  10.홈페이지/모바일       인증서    17\n",
       "182  10.홈페이지/모바일       포인트     1\n",
       "183  10.홈페이지/모바일        회원     5\n",
       "\n",
       "[184 rows x 3 columns]"
      ]
     },
     "execution_count": 33,
     "metadata": {},
     "output_type": "execute_result"
    }
   ],
   "source": [
    "df.groupby(['업무선택', '하위유형 입력'])['지식No'].count().reset_index()"
   ]
  },
  {
   "cell_type": "markdown",
   "metadata": {},
   "source": [
    "# 질문을 확장할 방법은?\n",
    "- NLG\n",
    "- 다른 표현들을 STT 데이터에서 획득 (유사도 혹은 Topic을 평가하여 수집)"
   ]
  },
  {
   "cell_type": "code",
   "execution_count": null,
   "metadata": {},
   "outputs": [],
   "source": []
  }
 ],
 "metadata": {
  "kernelspec": {
   "display_name": "basic",
   "language": "python",
   "name": "basic"
  },
  "language_info": {
   "codemirror_mode": {
    "name": "ipython",
    "version": 3
   },
   "file_extension": ".py",
   "mimetype": "text/x-python",
   "name": "python",
   "nbconvert_exporter": "python",
   "pygments_lexer": "ipython3",
   "version": "3.6.9"
  }
 },
 "nbformat": 4,
 "nbformat_minor": 2
}
