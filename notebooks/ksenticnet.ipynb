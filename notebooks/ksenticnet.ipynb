{
 "cells": [
  {
   "cell_type": "code",
   "execution_count": 1,
   "metadata": {},
   "outputs": [],
   "source": [
    "import os\n",
    "import codecs\n",
    "import math\n",
    "import random\n",
    "import numpy as np\n",
    "from collections import Counter\n",
    "import gensim\n",
    "import pickle\n",
    "from konlpy import jvm\n",
    "from gensim.models import FastText\n",
    "from konlpy.tag import Kkma\n",
    "import jpype\n",
    "from sklearn.metrics.pairwise import cosine_similarity\n",
    "from scipy import sparse"
   ]
  },
  {
   "cell_type": "code",
   "execution_count": 2,
   "metadata": {},
   "outputs": [],
   "source": [
    "PAD = \"<pad>\"\n",
    "UNK = \"<unk>\""
   ]
  },
  {
   "cell_type": "code",
   "execution_count": 3,
   "metadata": {},
   "outputs": [],
   "source": [
    "def build_fasttext(filename, context_path, target_path, word_dict, verb_dict, dim):\n",
    "    scale = math.sqrt(3.0 / dim)\n",
    "    context_emb = np.random.uniform(-scale, scale, [len(word_dict), dim])\n",
    "    target_emb = np.random.uniform(-scale, scale, [len(verb_dict), dim])\n",
    "    fasttext_model = FastText.load_fasttext_format(filename, encoding='utf-8')\n",
    "    \n",
    "    for word in word_dict:\n",
    "        idx = word_dict[word]\n",
    "        context_emb[idx] = fasttext_model.wv[word]\n",
    "        \n",
    "    for word in verb_dict:\n",
    "        idx = verb_dict[word]\n",
    "        target_emb[idx] = fasttext_model.wv[word]\n",
    "    \n",
    "    np.savez_compressed(context_path, embeddings=context_emb)\n",
    "    np.savez_compressed(target_path, embeddings=target_emb)"
   ]
  },
  {
   "cell_type": "code",
   "execution_count": 4,
   "metadata": {},
   "outputs": [],
   "source": [
    "def build_vocab(example_dict_pkl, word_threshold=5):\n",
    "    tokenizer = Kkma()\n",
    "    word_counter, verb_counter = Counter(), Counter()\n",
    "    example_dict = dict()\n",
    "    with open(example_dict_pkl, 'rb') as f:\n",
    "        example_dict = pickle.load(f)\n",
    "    \n",
    "    for word, example in example_dict.items():\n",
    "        sentence = example[0] + word + example[1]\n",
    "        verb_counter[word] += 1\n",
    "        for x in tokenizer.pos(sentence):\n",
    "            if x[0] in example_dict.keys():\n",
    "                verb_counter[x[0]] += 1\n",
    "            else:\n",
    "                word_counter[x[0]] += 1\n",
    "    \n",
    "    # build word vocabulary\n",
    "    word_vocab = [PAD] + [word for word, count in word_counter.most_common() if count >= word_threshold] + [UNK]\n",
    "    verb_vocab = [word for word, count in verb_counter.most_common()]\n",
    "    \n",
    "    # save to file\n",
    "    with open('vocabulary/word_vocab.txt', 'w', encoding='utf-8') as f:\n",
    "        f.write('\\n'.join(word_vocab))\n",
    "    with open(\"vocabulary/verb_vocab.txt\", \"w\", encoding=\"utf-8\") as f:\n",
    "        f.write(\"\\n\".join(verb_vocab))\n",
    "    with open(\"vocabulary/verb_count.txt\", \"w\", encoding=\"utf-8\") as f:\n",
    "        f.write(\"\\n\".join([\"{}\\t{}\".format(word, count) for word, count in verb_counter.most_common()]))"
   ]
  },
  {
   "cell_type": "code",
   "execution_count": 5,
   "metadata": {},
   "outputs": [],
   "source": [
    "def load_verb_count(filename):\n",
    "    count_list = []\n",
    "    with codecs.open(filename, 'r', encoding='utf-8') as f:\n",
    "        for line in f:\n",
    "            line = line.strip().split('\\t')\n",
    "            count = int(line[1])\n",
    "            count_list.append(count)\n",
    "    return count_list"
   ]
  },
  {
   "cell_type": "code",
   "execution_count": 6,
   "metadata": {},
   "outputs": [],
   "source": [
    "def read_vocab_to_dict(filename):\n",
    "    vocab = dict()\n",
    "    with open(filename, mode='r', encoding='utf-8') as f:\n",
    "        for idx, word in enumerate(f):\n",
    "            word = word.strip()\n",
    "            vocab[word] = idx\n",
    "    return vocab"
   ]
  },
  {
   "cell_type": "code",
   "execution_count": 88,
   "metadata": {},
   "outputs": [],
   "source": [
    "def pad_sequence(sequence, pad_tok=0, max_length=None):\n",
    "    if max_length is None:\n",
    "        max_length = max([len(seq) for seq in sequence])\n",
    "    sequence_padded, seq_length = [], []\n",
    "    for seq in sequence:\n",
    "        seq_ = seq[:max_length] + [pad_tok] * max(max_length-len(seq), 0)\n",
    "        sequence_padded.append(seq_)\n",
    "        seq_length.append(min(len(seq), max_length))\n",
    "    return sequence_padded, seq_length"
   ]
  },
  {
   "cell_type": "code",
   "execution_count": 8,
   "metadata": {},
   "outputs": [],
   "source": [
    "def build_batch_dataset(left_context, verbs, right_context):\n",
    "    left_context, left_seq_len = pad_sequence(left_context)\n",
    "    right_context, right_seq_len = pad_sequence(right_context)\n",
    "    batch_size = len(verbs)\n",
    "    return {\n",
    "        'lc': left_context,\n",
    "        'll': left_seq_len,\n",
    "        'rc': right_context,\n",
    "        'rl': right_seq_len,\n",
    "        'vb': verbs,\n",
    "        'batch_size': batch_size\n",
    "    }"
   ]
  },
  {
   "cell_type": "code",
   "execution_count": 9,
   "metadata": {},
   "outputs": [],
   "source": [
    "def dataset_iterator(example_dict, word_dict, verb_dict, batch_size):\n",
    "    tokenizer = Kkma()\n",
    "    left_context, verbs, right_context = [], [], []\n",
    "    for word, example in example_dict.items():\n",
    "        # split data\n",
    "        l_c, vb, r_c = example[0], word, example[1]\n",
    "        # convert to indices\n",
    "        l_c = [word_dict[word[0]] if word[0] in word_dict else word_dict[UNK] for word in tokenizer.pos(l_c)]\n",
    "        vb = verb_dict[vb]\n",
    "        r_c = [word_dict[word[0]] if word[0] in word_dict else word_dict[UNK] for word in tokenizer.pos(r_c)]\n",
    "        # add to list\n",
    "        left_context.append(l_c)\n",
    "        verbs.append(vb)\n",
    "        right_context.append(r_c)\n",
    "        # yield batched dataset\n",
    "        if len(left_context) == batch_size:\n",
    "            yield build_batch_dataset(left_context, verbs, right_context)\n",
    "            left_context, verbs, right_context = [], [], []\n",
    "    if len(left_context) > 0:\n",
    "        yield build_batch_dataset(left_context, verbs, right_context)"
   ]
  },
  {
   "cell_type": "code",
   "execution_count": null,
   "metadata": {},
   "outputs": [],
   "source": []
  },
  {
   "cell_type": "code",
   "execution_count": 10,
   "metadata": {},
   "outputs": [],
   "source": [
    "tokenizer = Kkma()\n",
    "word_counter, verb_counter = Counter(), Counter()\n",
    "example_dict = dict()\n",
    "with open('vocabulary/example_dict.pkl', 'rb') as f:\n",
    "    example_dict = pickle.load(f)"
   ]
  },
  {
   "cell_type": "code",
   "execution_count": 11,
   "metadata": {},
   "outputs": [
    {
     "data": {
      "text/plain": [
       "8270"
      ]
     },
     "execution_count": 11,
     "metadata": {},
     "output_type": "execute_result"
    }
   ],
   "source": [
    "len(example_dict)"
   ]
  },
  {
   "cell_type": "code",
   "execution_count": 12,
   "metadata": {},
   "outputs": [],
   "source": [
    "for word, example in example_dict.items():\n",
    "    sentence = example[0] + word + example[1]\n",
    "    verb_counter[word] += 1\n",
    "    for x in tokenizer.pos(sentence):\n",
    "        if x[0] in example_dict.keys():\n",
    "            verb_counter[x[0]] += 1\n",
    "        else:\n",
    "            word_counter[x[0]] += 1"
   ]
  },
  {
   "cell_type": "code",
   "execution_count": 13,
   "metadata": {},
   "outputs": [
    {
     "data": {
      "text/plain": [
       "(8270, 8270)"
      ]
     },
     "execution_count": 13,
     "metadata": {},
     "output_type": "execute_result"
    }
   ],
   "source": [
    "len(verb_counter), len(example_dict)"
   ]
  },
  {
   "cell_type": "code",
   "execution_count": 14,
   "metadata": {},
   "outputs": [
    {
     "data": {
      "text/plain": [
       "10547"
      ]
     },
     "execution_count": 14,
     "metadata": {},
     "output_type": "execute_result"
    }
   ],
   "source": [
    "len(word_counter)"
   ]
  },
  {
   "cell_type": "code",
   "execution_count": 15,
   "metadata": {},
   "outputs": [],
   "source": [
    "word_threshold = 5"
   ]
  },
  {
   "cell_type": "code",
   "execution_count": 16,
   "metadata": {},
   "outputs": [],
   "source": [
    "# build word vocabulary\n",
    "word_vocab = [PAD] + [word for word, count in word_counter.most_common() if count >= word_threshold] + [UNK]\n",
    "verb_vocab = [word for word, count in verb_counter.most_common()]"
   ]
  },
  {
   "cell_type": "code",
   "execution_count": 18,
   "metadata": {},
   "outputs": [],
   "source": [
    "word_vocab = '\\n'.join(word_vocab)\n",
    "verb_vocab = '\\n'.join(verb_vocab)\n",
    "verb_count = '\\n'.join(([\"{}\\t{}\".format(word, count) for word, count in verb_counter.most_common()]))"
   ]
  },
  {
   "cell_type": "code",
   "execution_count": 19,
   "metadata": {},
   "outputs": [],
   "source": [
    "def read_vocab_to_dict(text):\n",
    "    vocab = {}\n",
    "    for idx, word in enumerate(text.split('\\n')):\n",
    "        word = word.lstrip().rstrip()\n",
    "        vocab[word] = idx\n",
    "    return vocab"
   ]
  },
  {
   "cell_type": "code",
   "execution_count": 20,
   "metadata": {},
   "outputs": [],
   "source": [
    "word_dict = read_vocab_to_dict(word_vocab)\n",
    "verb_dict = read_vocab_to_dict(verb_vocab)"
   ]
  },
  {
   "cell_type": "code",
   "execution_count": 21,
   "metadata": {},
   "outputs": [
    {
     "data": {
      "text/plain": [
       "(1574, 8270)"
      ]
     },
     "execution_count": 21,
     "metadata": {},
     "output_type": "execute_result"
    }
   ],
   "source": [
    "len(word_dict), len(verb_dict)"
   ]
  },
  {
   "cell_type": "code",
   "execution_count": 22,
   "metadata": {},
   "outputs": [],
   "source": [
    "def load_verb_count(text):\n",
    "    count_list = []\n",
    "    for line in text.split('\\n'):\n",
    "        line = line.strip().split('\\t')\n",
    "        count = int(line[1])\n",
    "        count_list.append(count)\n",
    "    return count_list"
   ]
  },
  {
   "cell_type": "code",
   "execution_count": 23,
   "metadata": {},
   "outputs": [],
   "source": [
    "verb_vocab_count = load_verb_count(verb_count)"
   ]
  },
  {
   "cell_type": "code",
   "execution_count": 24,
   "metadata": {},
   "outputs": [
    {
     "data": {
      "text/plain": [
       "8270"
      ]
     },
     "execution_count": 24,
     "metadata": {},
     "output_type": "execute_result"
    }
   ],
   "source": [
    "len(verb_vocab_count)"
   ]
  },
  {
   "cell_type": "code",
   "execution_count": 25,
   "metadata": {},
   "outputs": [],
   "source": [
    "filename = 'wiki.ko.bin'\n",
    "# context_path = 'embeddings/context_embeddings.npz'\n",
    "# target_path = 'embeddings/target_embeddings.npz'\n",
    "dim = 300"
   ]
  },
  {
   "cell_type": "code",
   "execution_count": 26,
   "metadata": {},
   "outputs": [],
   "source": [
    "scale = np.sqrt(3.0 / dim)\n",
    "context_emb = np.random.uniform(-scale, scale, [len(word_dict), dim])\n",
    "target_emb = np.random.uniform(-scale, scale, [len(verb_dict), dim])"
   ]
  },
  {
   "cell_type": "code",
   "execution_count": 27,
   "metadata": {},
   "outputs": [
    {
     "data": {
      "text/plain": [
       "'wiki.ko.bin'"
      ]
     },
     "execution_count": 27,
     "metadata": {},
     "output_type": "execute_result"
    }
   ],
   "source": [
    "filename"
   ]
  },
  {
   "cell_type": "markdown",
   "metadata": {},
   "source": [
    "https://fasttext.cc/docs/en/pretrained-vectors.html"
   ]
  },
  {
   "cell_type": "code",
   "execution_count": 28,
   "metadata": {},
   "outputs": [
    {
     "name": "stderr",
     "output_type": "stream",
     "text": [
      "C:\\Users\\jinma\\AppData\\Local\\Continuum\\anaconda3\\envs\\basic\\lib\\site-packages\\ipykernel_launcher.py:1: DeprecationWarning: Call to deprecated `load_fasttext_format` (use load_facebook_vectors (to use pretrained embeddings) or load_facebook_model (to continue training with the loaded full model, more RAM) instead).\n",
      "  \"\"\"Entry point for launching an IPython kernel.\n"
     ]
    }
   ],
   "source": [
    "fasttext_model = FastText.load_fasttext_format(filename, encoding='utf-8')"
   ]
  },
  {
   "cell_type": "code",
   "execution_count": 29,
   "metadata": {},
   "outputs": [],
   "source": [
    "for word, idx in word_dict.items():\n",
    "    context_emb[idx] = fasttext_model.wv[word]\n",
    "    \n",
    "for word, idx in verb_dict.items():\n",
    "    target_emb[idx] = fasttext_model.wv[word]   "
   ]
  },
  {
   "cell_type": "code",
   "execution_count": 30,
   "metadata": {},
   "outputs": [],
   "source": [
    "import tensorflow as tf\n",
    "import os\n",
    "import numpy as np\n",
    "import pickle"
   ]
  },
  {
   "cell_type": "code",
   "execution_count": 31,
   "metadata": {},
   "outputs": [],
   "source": [
    "# https://dongjinlee.tistory.com/entry/선택한-GPU에만-메모리-할당하는-방법\n",
    "os.environ['CUDA_DEVICE_ORDER'] = 'PCI_BUS_ID'\n",
    "os.environ['CUDA_VISIBLE_DEVICES'] = \"0\" # 나는 하나만 사용, ksenticnet에선 \"0,1\"로 사용"
   ]
  },
  {
   "cell_type": "code",
   "execution_count": 32,
   "metadata": {},
   "outputs": [],
   "source": [
    "example_dict = dict()\n",
    "with open('vocabulary/example_dict.pkl', 'rb') as f:\n",
    "    example_dict = pickle.load(f) # 이 파일은 어디에서 왔을까?"
   ]
  },
  {
   "cell_type": "code",
   "execution_count": 33,
   "metadata": {},
   "outputs": [],
   "source": [
    "# def read_vocab_to_dict(filename):\n",
    "#     vocab = dict()\n",
    "#     with open(filename, mode='r', encoding='utf-8') as f:\n",
    "#         for idx, word in enumerate(f):\n",
    "#             word = word.strip()\n",
    "#             vocab[word] = idx\n",
    "#     return vocab\n",
    "\n",
    "# # data_helper.py에서 실행할 결과와 사뭇 다르다.\n",
    "# # 일단 돌아가는 것을 확인하고 어떻게 해결할 지 고민한다.\n",
    "# word_dict = read_vocab_to_dict(\"vocabulary/word_vocab.txt\")\n",
    "# verb_dict = read_vocab_to_dict(\"vocabulary/verb_vocab.txt\")\n",
    "# verb_vocab_count = load_verb_count(\"vocabulary/verb_count.txt\")"
   ]
  },
  {
   "cell_type": "code",
   "execution_count": 34,
   "metadata": {},
   "outputs": [
    {
     "data": {
      "text/plain": [
       "(1574, 8270, 8270)"
      ]
     },
     "execution_count": 34,
     "metadata": {},
     "output_type": "execute_result"
    }
   ],
   "source": [
    "len(word_dict), len(verb_dict), len(verb_vocab_count)"
   ]
  },
  {
   "cell_type": "code",
   "execution_count": 35,
   "metadata": {},
   "outputs": [],
   "source": [
    "flags = tf.flags\n",
    "flags.DEFINE_string('f', '', 'kernel')\n",
    "flags.DEFINE_integer(\"neg_sample\", 10, \"number of negative samples\")\n",
    "flags.DEFINE_integer(\"word_dim\", 300, \"word embedding dimension\")\n",
    "flags.DEFINE_integer(\"num_units\", 100, \"number of units for rnn cell and hidden layer of ffn\")\n",
    "flags.DEFINE_integer(\"output_units\", 200, \"number of units for output part\")\n",
    "flags.DEFINE_bool(\"use_pretrained\", True, \"use pretrained word2vec\")\n",
    "flags.DEFINE_bool(\"tune_emb\", True, \"tune pretrained embeddings while training\")\n",
    "flags.DEFINE_string(\"pretrained_context\", \"embeddings/context_embeddings.npz\", \"pretrained context embedding path\")\n",
    "flags.DEFINE_string(\"pretrained_target\", \"embeddings/target_embeddings.npz\", \"pretrained target embedding path\")\n",
    "flags.DEFINE_integer(\"vocab_size\", len(word_dict), \"word vocab size\")\n",
    "flags.DEFINE_integer(\"verb_size\", len(verb_dict), \"verb vocab size\")\n",
    "flags.DEFINE_float(\"lr\", 0.001, \"learning_rate\")\n",
    "flags.DEFINE_integer(\"batch_size\", 300, \"batch size\")\n",
    "flags.DEFINE_integer(\"epochs\", 3, \"epochs\")\n",
    "flags.DEFINE_string(\"ckpt\", \"ckpt/\", \"checkpoint path\")\n",
    "flags.DEFINE_string(\"model_name\", \"train_concept\", \"model name\")\n",
    "config = flags.FLAGS"
   ]
  },
  {
   "cell_type": "code",
   "execution_count": 36,
   "metadata": {},
   "outputs": [],
   "source": [
    "flags.DEFINE_string('fasttext_path', 'wiki.ko.bin', 'model file for create')"
   ]
  },
  {
   "cell_type": "code",
   "execution_count": 37,
   "metadata": {},
   "outputs": [
    {
     "data": {
      "text/plain": [
       "False"
      ]
     },
     "execution_count": 37,
     "metadata": {},
     "output_type": "execute_result"
    }
   ],
   "source": [
    "not os.path.exists(config.pretrained_context) or not os.path.exists(config.pretrained_target)"
   ]
  },
  {
   "cell_type": "code",
   "execution_count": 38,
   "metadata": {},
   "outputs": [],
   "source": [
    "filename, context_path, target_path, word_dict, verb_dict, dim = (\n",
    "    config.fasttext_path, config.pretrained_context, config.pretrained_target,\n",
    "    word_dict, verb_dict, config.word_dim)"
   ]
  },
  {
   "cell_type": "code",
   "execution_count": 39,
   "metadata": {},
   "outputs": [],
   "source": [
    "# scale = np.sqrt(3.0 / dim)\n",
    "# context_emb = np.random.uniform(-scale, scale, [len(word_dict), dim])\n",
    "# target_emb = np.random.uniform(-scale, scale, [len(verb_dict), dim])\n",
    "# fasttext_model = FastText.load_fasttext_format(filename, encoding='utf8')"
   ]
  },
  {
   "cell_type": "code",
   "execution_count": 40,
   "metadata": {},
   "outputs": [],
   "source": [
    "# for word, idx in word_dict.items():\n",
    "#     context_emb[idx] = fasttext_model.wv[word]\n",
    "    \n",
    "# for word, idx in verb_dict.items():\n",
    "#     target_emb[idx] = fasttext_model.wv[word]"
   ]
  },
  {
   "cell_type": "code",
   "execution_count": 41,
   "metadata": {},
   "outputs": [],
   "source": [
    "if not os.path.exists(config.ckpt):\n",
    "    os.makedirs(config.ckpt)"
   ]
  },
  {
   "cell_type": "code",
   "execution_count": 42,
   "metadata": {},
   "outputs": [],
   "source": [
    "sess_config = tf.ConfigProto(allow_soft_placement=True, log_device_placement=True)"
   ]
  },
  {
   "cell_type": "code",
   "execution_count": 43,
   "metadata": {},
   "outputs": [],
   "source": [
    "sess_config.gpu_options.allow_growth = True"
   ]
  },
  {
   "cell_type": "code",
   "execution_count": 44,
   "metadata": {},
   "outputs": [],
   "source": [
    "from tensorflow.python.ops.rnn_cell import LSTMCell\n",
    "from tensorflow.python.ops.rnn import bidirectional_dynamic_rnn"
   ]
  },
  {
   "cell_type": "code",
   "execution_count": 45,
   "metadata": {},
   "outputs": [],
   "source": [
    "def self_attention(inputs, name, return_alphas=False):\n",
    "    shared = False\n",
    "    hidden_size = inputs.shape[2].value # D value - hidden size of the RNN layer\n",
    "    if shared:\n",
    "        scope_name = 'self_attn'\n",
    "    else:\n",
    "        scope_name = 'self_attn' + name\n",
    "    with tf.variable_scope(scope_name):\n",
    "        den = True\n",
    "        if den:\n",
    "            x_proj = tf.layers.Dense(hidden_size)(inputs)\n",
    "            x_proj = tf.nn.tanh(x_proj)\n",
    "        else:\n",
    "            x_proj = inputs\n",
    "        u_w = tf.Variable(tf.random_normal([hidden_size, 1], stddev=0.01, seed=1227))\n",
    "        x = tf.tensordot(x_proj, u_w, axes=1)\n",
    "        alphas = tf.nn.softmax(x, axis=-1)\n",
    "        output = tf.matmul(tf.transpose(inputs, [0, 2, 1]), alphas)\n",
    "        output = tf.squeeze(output, -1)\n",
    "        if not return_alphas:\n",
    "            return output\n",
    "        else:\n",
    "            return output, alphas"
   ]
  },
  {
   "cell_type": "code",
   "execution_count": 50,
   "metadata": {},
   "outputs": [],
   "source": [
    "def ffn_layer(inputs, hidden_units, output_units, use_bias=True, bias_init=0.,\n",
    "              activation=tf.nn.tanh, scope='ffn_layer'):\n",
    "    with tf.variable_scope(scope):\n",
    "        dim = inputs.get_shape().as_list()[-1]\n",
    "        # hidden layer\n",
    "        hidden_weight = tf.get_variable(name='hidden_weight', shape=[dim, hidden_units], dtype=tf.float32)\n",
    "        hidden_output = tf.matmul(inputs, hidden_weight)\n",
    "        if use_bias:\n",
    "            hidden_bias = tf.get_variable(name='hidden_bias', shape=[hidden_units], dtype=tf.float32)\n",
    "            hidden_output = tf.nn.bias_add(hidden_output, hidden_bias)\n",
    "        hidden_output = activation(hidden_output)\n",
    "        # output layer\n",
    "        weight = tf.get_variable(name='weight', shape=[hidden_units, output_units], dtype=tf.float32)\n",
    "        output = tf.matmul(hidden_output, weight)\n",
    "        if use_bias:\n",
    "            bias = tf.get_variable(name='bias', shape=[output_units], dtype=tf.float32)\n",
    "            output = tf.nn.bias_add(output, bias)\n",
    "        output = activation(output)\n",
    "        return output"
   ]
  },
  {
   "cell_type": "code",
   "execution_count": 90,
   "metadata": {},
   "outputs": [],
   "source": [
    "class Model:\n",
    "    def __init__(self, cfg, vocab_counts):\n",
    "        # add data palceholders\n",
    "        self.left_context = tf.placeholder(name=\"left_context\", shape=[None, None], dtype=tf.int32)\n",
    "        self.left_seq_len = tf.placeholder(name=\"left_seq_len\", shape=[None], dtype=tf.int32)\n",
    "        self.right_context = tf.placeholder(name=\"right_context\", shape=[None, None], dtype=tf.int32)\n",
    "        self.right_seq_len = tf.placeholder(name=\"right_seq_len\", shape=[None], dtype=tf.int32)\n",
    "        self.verb = tf.placeholder(name=\"verb\", shape=[None], dtype=tf.int32)\n",
    "        \n",
    "        # add hyper-parameter placeholders\n",
    "        self.batch_size = tf.placeholder(name=\"batch_size\", dtype=tf.int32)\n",
    "        self.is_train = tf.placeholder(name=\"is_train\", shape=[], dtype=tf.bool)\n",
    "        self.drop_rate = tf.placeholder(name=\"dropout_rate\", dtype=tf.float32)\n",
    "        self.lr = tf.placeholder(name=\"learning_rate\", dtype=tf.float32)\n",
    "        \n",
    "        # build embedding lookup table\n",
    "        with tf.device(\"/gpu:0\"):\n",
    "            with tf.variable_scope(\"context_lookup_table\"):\n",
    "                self.word_embeddings = tf.Variable(np.load(cfg.pretrained_context)[\"embeddings\"],\n",
    "                                                   name=\"word_embeddings\",\n",
    "                                                   dtype=tf.float32,\n",
    "                                                   trainable=cfg.tune_emb)\n",
    "                self.word_embeddings = tf.concat([tf.zeros([1, cfg.word_dim]), \n",
    "                                                  self.word_embeddings[1:, :]], axis=0)\n",
    "\n",
    "            with tf.variable_scope(\"target_lookup_table\"):\n",
    "                self.verb_embeddings = tf.Variable(np.load(cfg.pretrained_target)[\"embeddings\"],\n",
    "                                                   name=\"verb_embeddings\",\n",
    "                                                   dtype=tf.float32,\n",
    "                                                   trainable=cfg.tune_emb)\n",
    "#                 self.verb_embeddings = tf.concat([tf.zeros([1, cfg.word_dim]), \n",
    "#                                                  self.verb_embeddings[1:, :]], axis=0)\n",
    "\n",
    "            # negative sampling\n",
    "            self.neg_ids, _, _ = (tf.nn.fixed_unigram_candidate_sampler(\n",
    "                true_classes=tf.cast(tf.expand_dims(self.verb, axis=1), dtype=tf.int64),\n",
    "                num_true=1,\n",
    "                num_sampled=cfg.neg_sample, # 10개 뽑아서 추출\n",
    "                unique=True,\n",
    "                range_max=cfg.verb_size,\n",
    "                distortion=0.75,\n",
    "                unigrams=vocab_counts))\n",
    "\n",
    "            print('neg_ids : ', self.neg_ids)\n",
    "        \n",
    "            # Embedding lookup\n",
    "            # with tf.device(\"\\gpu:0\"):\n",
    "            with tf.variable_scope('embedding_lookup'):\n",
    "                left_context_emb = tf.nn.embedding_lookup(self.word_embeddings, self.left_context)\n",
    "                right_context_emb = tf.nn.embedding_lookup(self.word_embeddings, self.right_context)\n",
    "                verb_emb = tf.nn.embedding_lookup(self.verb_embeddings, self.verb)\n",
    "                neg_verb_emb = tf.nn.embedding_lookup(self.verb_embeddings, self.neg_ids)\n",
    "            \n",
    "        # left context bi-lstm\n",
    "        with tf.device('/gpu:0'):\n",
    "            with tf.variable_scope('right_context_representation'):\n",
    "                cell_fw = LSTMCell(num_units=cfg.num_units)\n",
    "                cell_bw = LSTMCell(num_units=cfg.num_units)\n",
    "                h_rc, _ = bidirectional_dynamic_rnn(cell_fw, cell_bw, right_context_emb,\n",
    "                                                    sequence_length=self.right_seq_len,\n",
    "                                                    dtype=tf.float32,\n",
    "                                                    time_major=False,\n",
    "                                                    scope='bi-lstm')\n",
    "                h_rc = tf.concat(h_rc, axis=-1)\n",
    "                # self-attention\n",
    "                h_rc = self_attention(h_rc, name='self_attn_right')\n",
    "                r_weight = tf.get_variable(name='r_weight',\n",
    "                                           shape=[2 * cfg.num_units, 2 * cfg.num_units],\n",
    "                                           dtype=tf.float32)\n",
    "                h_rc = tf.nn.tanh(tf.matmul(h_rc, r_weight))\n",
    "                print('right context shape: {}'.format(h_rc.get_shape().as_list()))\n",
    "\n",
    "            with tf.variable_scope('left_context_representation'):\n",
    "                cell_fw = LSTMCell(num_units=cfg.num_units)\n",
    "                cell_bw = LSTMCell(num_units=cfg.num_units)\n",
    "                h_lc, _ = bidirectional_dynamic_rnn(cell_fw, cell_bw, left_context_emb,\n",
    "                                                    sequence_length=self.left_seq_len,\n",
    "                                                    dtype=tf.float32,\n",
    "                                                    time_major=False,\n",
    "                                                    scope='bi-lstm')\n",
    "                h_lc = tf.concat(h_lc, axis=-1)\n",
    "                # self-attention\n",
    "                h_lc = self_attention(h_lc, name='self_attn_left')\n",
    "                l_weight = tf.get_variable(name='l_weight',\n",
    "                                           shape=[2 * cfg.num_units, 2 * cfg.num_units],\n",
    "                                           dtype=tf.float32)\n",
    "                h_lc = tf.nn.tanh(tf.matmul(h_lc, l_weight))\n",
    "                print('left context shape: {}'.format(h_lc.get_shape().as_list()))\n",
    "                \n",
    "            with tf.variable_scope('neural_tensor_network'):\n",
    "                T = tf.get_variable(name='T',\n",
    "                                    shape=[cfg.output_units, 2*cfg.num_units, 2*cfg.num_units],\n",
    "                                    dtype=tf.float32)\n",
    "                W = tf.get_variable(name='W',\n",
    "                                    shape=[4*cfg.num_units, cfg.output_units],\n",
    "                                    dtype=tf.float32)\n",
    "                b = tf.get_variable(name='b',\n",
    "                                    shape=[cfg.output_units],\n",
    "                                    dtype=tf.float32)\n",
    "                # compute tensors\n",
    "                ff_product = tf.matmul(tf.concat([h_lc, h_rc], axis=-1), W)\n",
    "                bilinear_list = []\n",
    "                for k in range(cfg.output_units):\n",
    "                    cur_res = tf.reduce_sum(tf.matmul(h_lc, T[k]) * h_rc, axis=1)\n",
    "                    bilinear_list.append(cur_res)\n",
    "                context = tf.nn.tanh(tf.reshape(tf.concat(bilinear_list, axis=0), shape=[-1, cfg.output_units]) +\n",
    "                                     ff_product + b) # shape = (batch_size, output_units)\n",
    "                \n",
    "            with tf.variable_scope('verb_representation'):\n",
    "                target_verb = ffn_layer(verb_emb, cfg.num_units, cfg.output_units, scope='ffn_layer')\n",
    "                print('verb representation shape: {}'.format(target_verb.get_shape().as_list()))\n",
    "                tf.get_variable_scope().reuse_variables()\n",
    "                negative_verbs = ffn_layer(\n",
    "                    inputs=neg_verb_emb, \n",
    "                    hidden_units=cfg.num_units, \n",
    "                    output_units=cfg.output_units, \n",
    "                    use_bias=True, \n",
    "                    bias_init=0.,\n",
    "                    activation=tf.nn.tanh,\n",
    "                    scope='ffn_layer')\n",
    "                print('negative verb shape: {}'.format(negative_verbs.get_shape().as_list()))\n",
    "                \n",
    "            with tf.variable_scope('compute_loss'):\n",
    "                true_logits = tf.reduce_sum(context * target_verb, axis=1)\n",
    "                print('true logits shape: {}'.format(true_logits.get_shape().as_list()))\n",
    "                neg_logits = tf.matmul(context, tf.transpose(negative_verbs, [1, 0]))\n",
    "                print('negative logits shape: {}'.format(neg_logits.get_shape().as_list()))\n",
    "                \n",
    "            with tf.variable_scope('nce_loss'):\n",
    "                true_xent = tf.nn.sigmoid_cross_entropy_with_logits(logits=true_logits,\n",
    "                                                                    labels=tf.ones_like(true_logits))\n",
    "                sampled_xent = tf.nn.sigmoid_cross_entropy_with_logits(logits=neg_logits,\n",
    "                                                                       labels=tf.ones_like(neg_logits))\n",
    "                \n",
    "                # NCE-loss is the sum of the true and noise (sampled words) contributions, averaged over the batch\n",
    "                self.loss = ((tf.reduce_sum(true_xent) + tf.reduce_sum(sampled_xent)) / \n",
    "                             tf.cast(self.batch_size, dtype=tf.float32))\n",
    "                \n",
    "            optimizer = tf.train.AdamOptimizer(learning_rate=self.lr)\n",
    "            self.train_op = optimizer.minimize(self.loss)\n",
    "            \n",
    "    def get_feed_dict(self, data, is_train=False, drop_rate=0.0, lr=None):\n",
    "        feed_dict = {\n",
    "            self.verb: data['vb'],\n",
    "            self.left_context: data['lc'],\n",
    "            self.left_seq_len: data['ll'],\n",
    "            self.right_context: data['rc'],\n",
    "            self.right_seq_len: data['rl'],\n",
    "            self.batch_size: data['batch_size']\n",
    "        }\n",
    "        if lr is not None:\n",
    "            feed_dict[self.lr] = lr\n",
    "        feed_dict[self.is_train] = is_train\n",
    "        feed_dict[self.drop_rate] = drop_rate\n",
    "        return feed_dict"
   ]
  },
  {
   "cell_type": "code",
   "execution_count": 92,
   "metadata": {},
   "outputs": [
    {
     "name": "stdout",
     "output_type": "stream",
     "text": [
      "Device mapping:\n",
      "/job:localhost/replica:0/task:0/device:GPU:0 -> device: 0, name: GeForce RTX 2080 Ti, pci bus id: 0000:09:00.0, compute capability: 7.5\n",
      "\n"
     ]
    }
   ],
   "source": [
    "sess = tf.Session(config=sess_config)"
   ]
  },
  {
   "cell_type": "code",
   "execution_count": 93,
   "metadata": {},
   "outputs": [
    {
     "name": "stdout",
     "output_type": "stream",
     "text": [
      "neg_ids :  Tensor(\"FixedUnigramCandidateSampler:0\", shape=(10,), dtype=int64, device=/device:GPU:0)\n",
      "right context shape: [None, 200]\n",
      "left context shape: [None, 200]\n",
      "verb representation shape: [None, 200]\n",
      "negative verb shape: [10, 200]\n",
      "true logits shape: [None]\n",
      "negative logits shape: [None, 10]\n"
     ]
    }
   ],
   "source": [
    "model = Model(config, verb_vocab_count)"
   ]
  },
  {
   "cell_type": "code",
   "execution_count": 94,
   "metadata": {},
   "outputs": [],
   "source": [
    "sess.run(tf.global_variables_initializer())"
   ]
  },
  {
   "cell_type": "code",
   "execution_count": 95,
   "metadata": {},
   "outputs": [],
   "source": [
    "saver = tf.train.Saver(max_to_keep=1)"
   ]
  },
  {
   "cell_type": "code",
   "execution_count": 78,
   "metadata": {},
   "outputs": [],
   "source": [
    "# tokenizer = Kkma()\n",
    "# left_context, verbs, right_context = [], [], []\n",
    "# for word, example in example_dict.items():\n",
    "#     l_c, vb, r_c = example[0], word, example[1]\n",
    "#     l_c = [word_dict[word[0]] if word[0] in word_dict else word_dict[UNK] for word in tokenizer.pos(l_c)]\n",
    "#     vb = verb_dict[vb]\n",
    "#     r_c = [word_dict[word[0]] if word[0] in word_dict else word_dict[UNK] for word in tokenizer.pos(r_c)]\n",
    "#     left_context.append(l_c)\n",
    "#     verbs.append(vb)\n",
    "#     right_context.append(r_c)"
   ]
  },
  {
   "cell_type": "code",
   "execution_count": 79,
   "metadata": {},
   "outputs": [
    {
     "data": {
      "text/plain": [
       "(8270, 8270, 8270)"
      ]
     },
     "execution_count": 79,
     "metadata": {},
     "output_type": "execute_result"
    }
   ],
   "source": [
    "len(left_context), len(verbs), len(right_context)"
   ]
  },
  {
   "cell_type": "code",
   "execution_count": 80,
   "metadata": {},
   "outputs": [
    {
     "data": {
      "text/plain": [
       "300"
      ]
     },
     "execution_count": 80,
     "metadata": {},
     "output_type": "execute_result"
    }
   ],
   "source": [
    "config.batch_size"
   ]
  },
  {
   "cell_type": "code",
   "execution_count": 83,
   "metadata": {},
   "outputs": [],
   "source": [
    "pad_tok = 0"
   ]
  },
  {
   "cell_type": "code",
   "execution_count": 84,
   "metadata": {},
   "outputs": [],
   "source": [
    "# max_length = max([len(seq) for seq in left_context[:300]])\n",
    "# left_context_, left_seq_len = [], []\n",
    "# for seq in left_context[:300]:\n",
    "#     seq_ = seq[:max_length] + [pad_tok] * max(max_length - len(seq), 0)\n",
    "#     left_context_.append(seq_)\n",
    "#     left_seq_len.append(min(len(seq), max_length))\n",
    "    \n",
    "# max_length = max([len(seq) for seq in right_context[:300]])\n",
    "# right_context_, right_seq_len = [], []\n",
    "# for seq in left_context[:300]:\n",
    "#     seq_ = seq[:max_length] + [pad_tok] * max(max_length - len(seq), 0)\n",
    "#     right_context_.append(seq_)\n",
    "#     right_seq_len.append(min(len(seq), max_length))\n",
    "    \n",
    "# batch_size = len(verbs[:300])\n",
    "\n",
    "# feed_dict = {\n",
    "#     'lc': left_context_,\n",
    "#     'll': left_seq_len,\n",
    "#     'rc': right_context_,\n",
    "#     'rl': right_seq_len,\n",
    "#     'vb': verbs,\n",
    "#     'batch_size': batch_size\n",
    "# }"
   ]
  },
  {
   "cell_type": "code",
   "execution_count": 96,
   "metadata": {},
   "outputs": [
    {
     "name": "stdout",
     "output_type": "stream",
     "text": [
      "epoch : 0\n",
      "epoch : 1\n",
      "epoch : 2\n"
     ]
    }
   ],
   "source": [
    "for epoch in range(config.epochs):\n",
    "    print('\\repoch :', epoch, end='')\n",
    "    data_iter = dataset_iterator(example_dict, word_dict, verb_dict, config.batch_size)\n",
    "    for (i, data) in enumerate(data_iter):\n",
    "        feed_dict = model.get_feed_dict(data, is_train=True, lr=config.lr)\n",
    "        _, losses = sess.run([model.train_op, model.loss], feed_dict=feed_dict)"
   ]
  },
  {
   "cell_type": "code",
   "execution_count": 98,
   "metadata": {},
   "outputs": [],
   "source": [
    "saver.save(sess, config.ckpt + config.model_name, global_step=config.epochs)\n",
    "target_emb = sess.run(model.verb_embeddings)"
   ]
  },
  {
   "cell_type": "code",
   "execution_count": 101,
   "metadata": {},
   "outputs": [
    {
     "data": {
      "text/plain": [
       "array([[-0.6489587 ,  0.22590488, -1.1362432 , ..., -0.0087962 ,\n",
       "         0.44888574, -0.3660209 ],\n",
       "       [-0.72890246,  0.20910072, -0.7256731 , ...,  0.29167625,\n",
       "         0.17341195, -0.37546793],\n",
       "       [-0.5749987 ,  0.15455553, -0.6885311 , ...,  0.3039003 ,\n",
       "         0.16293989, -0.5774864 ],\n",
       "       ...,\n",
       "       [-0.31256592,  0.13482359, -0.1201131 , ..., -0.03876929,\n",
       "         0.13180208, -0.38239166],\n",
       "       [-0.14058445,  0.05386894, -0.19620898, ...,  0.16196038,\n",
       "         0.08151963, -0.01439535],\n",
       "       [-0.17340818,  0.10849348, -0.07742525, ...,  0.00275804,\n",
       "         0.0862994 , -0.24823163]], dtype=float32)"
      ]
     },
     "execution_count": 101,
     "metadata": {},
     "output_type": "execute_result"
    }
   ],
   "source": [
    "target_emb"
   ]
  },
  {
   "cell_type": "code",
   "execution_count": 102,
   "metadata": {},
   "outputs": [],
   "source": [
    "sess.close()\n",
    "tf.reset_default_graph()"
   ]
  },
  {
   "cell_type": "code",
   "execution_count": 105,
   "metadata": {},
   "outputs": [],
   "source": [
    "from senticnet5 import senticnet\n",
    "import nltk\n",
    "from nltk.corpus import wordnet as wn\n",
    "from nltk.wsd import lesk\n",
    "from sklearn.metrics.pairwise import cosine_similarity\n",
    "from scipy import sparse\n",
    "import numpy as np\n",
    "import math\n",
    "import pickle\n",
    "from wordfreq import word_frequency"
   ]
  },
  {
   "cell_type": "code",
   "execution_count": 106,
   "metadata": {},
   "outputs": [
    {
     "name": "stderr",
     "output_type": "stream",
     "text": [
      "[nltk_data] Downloading package wordnet to\n",
      "[nltk_data]     C:\\Users\\jinma\\AppData\\Roaming\\nltk_data...\n",
      "[nltk_data]   Package wordnet is already up-to-date!\n"
     ]
    },
    {
     "data": {
      "text/plain": [
       "True"
      ]
     },
     "execution_count": 106,
     "metadata": {},
     "output_type": "execute_result"
    }
   ],
   "source": [
    "nltk.download('wordnet')"
   ]
  },
  {
   "cell_type": "code",
   "execution_count": 107,
   "metadata": {},
   "outputs": [],
   "source": [
    "class Hypernyms:\n",
    "    def __init__(self, word, synset_obj):\n",
    "        self.level = [[], [], [], []]\n",
    "        self.level[0] = [lemma.name().lower() for lemma in synset_obj.lemmas()]\n",
    "        self.level[0].remove(word)\n",
    "        l1, l2, l3 = [], [], []\n",
    "        l1 = synset_obj.hypernyms()\n",
    "        for hyper in l1:\n",
    "            self.level[1] += [lemma.name().lower() for lemma in hyper.lemmas()]\n",
    "            l2 += hyper.hypernyms()\n",
    "        for hyper in l2:\n",
    "            self.level[2] += [lemma.name().lower() for lemma in hyper.lemmas()]\n",
    "            l3 += hyper.hypernyms()\n",
    "        for hyper in l3:\n",
    "            self.level[3] += [lemma.name().lower() for lemma in hyper.lemmas()]"
   ]
  },
  {
   "cell_type": "code",
   "execution_count": 108,
   "metadata": {},
   "outputs": [],
   "source": [
    "def weighted_sentic(sv1, fr1, sv2, fr2):\n",
    "    polarity = sv1[6]\n",
    "    \n",
    "    tf = fr1 + fr2\n",
    "    fr1 /= tf\n",
    "    fr2 /= tf\n",
    "    \n",
    "    pl = float(sv1[0]) * fr1 + float(sv2[0]) * fr2\n",
    "    at = float(sv1[1]) * fr1 + float(sv2[1]) * fr2\n",
    "    se = float(sv1[2]) * fr1 + float(sv2[2]) * fr2\n",
    "    ap = float(sv1[3]) * fr1 + float(sv2[3]) * fr2\n",
    "    pv = float(sv1[7]) * fr1 + float(sv2[7]) * fr2\n",
    "    \n",
    "    sentic = [pl, at, se, ap]\n",
    "    \n",
    "    return [round(pl, 3), rount(at, 3), round(se, 3), round(ap, 3)] + sentic_to_sentiments(sentic) + [polarity, round(pv, 3)]"
   ]
  },
  {
   "cell_type": "code",
   "execution_count": 109,
   "metadata": {},
   "outputs": [],
   "source": [
    "def sentic_to_sentiments(sentic):\n",
    "    sentiment_dict = {\n",
    "        0 : ['#sadness', '#joy'],\n",
    "        1 : ['#surprise', '#interest'],\n",
    "        2 : ['#fear', '#anger'],\n",
    "        3 : ['#disgust', '#admiration']\n",
    "    }\n",
    "    first_sentic, second_sentic = np.argsort(np.absolute(sentic))[-2:][::-1]\n",
    "    col1 = math.floor(sentic[first_sentic]) + 1\n",
    "    col2 = math.floor(sentic[second_sentic]) + 1\n",
    "    \n",
    "    return [sentiment_dict[first_sentic][col1], sentiment_dict[second_sentic][col2]]"
   ]
  },
  {
   "cell_type": "code",
   "execution_count": 110,
   "metadata": {},
   "outputs": [],
   "source": [
    "def sentic_to_strin(sentic_value):\n",
    "    string = ''\n",
    "    for s in sentic_value:\n",
    "        string += \"'\" + str(s) + \"', \"\n",
    "    return string[:-2]"
   ]
  },
  {
   "cell_type": "code",
   "execution_count": 111,
   "metadata": {},
   "outputs": [],
   "source": [
    "def load_korean_wordnet_offset(kw_path):\n",
    "    kw_offset = []\n",
    "    with open(kw_path, 'r', encoding='utf-8') as f:\n",
    "        for line in f.read().split('\\n')[1:]:\n",
    "            kw_offset.append(line.split('\\t')[0])\n",
    "    return kw_offset"
   ]
  },
  {
   "cell_type": "code",
   "execution_count": 121,
   "metadata": {},
   "outputs": [],
   "source": [
    "def load_similarities(trained_target_emb):\n",
    "#     trained_target_emb = np.load(open(trained_emb_path, 'rb'))['embeddings']\n",
    "    _sparse = sparse.csr_matrix(trained_target_emb)\n",
    "    similarities = cosine_similarity(_sparse)\n",
    "    return similarities"
   ]
  },
  {
   "cell_type": "code",
   "execution_count": 113,
   "metadata": {},
   "outputs": [],
   "source": [
    "def read_vocab_to_dict(filename):\n",
    "    vocab = dict()\n",
    "    with open(filename, mode='r', encoding='utf-8') as f:\n",
    "        for idx, word in enumerate(f):\n",
    "            word = word.strip()\n",
    "            vocab[word] = idx\n",
    "    return vocab"
   ]
  },
  {
   "cell_type": "code",
   "execution_count": 114,
   "metadata": {},
   "outputs": [],
   "source": [
    "def index_to_word(word_dict):\n",
    "    idx_word = dict()\n",
    "    for word, idx in word_dict.items():\n",
    "        idx_word[idx] = word\n",
    "    return idx_word"
   ]
  },
  {
   "cell_type": "code",
   "execution_count": 116,
   "metadata": {},
   "outputs": [
    {
     "name": "stdout",
     "output_type": "stream",
     "text": [
      "direct mappint started...\n"
     ]
    }
   ],
   "source": [
    "print('direct mappint started...')"
   ]
  },
  {
   "cell_type": "code",
   "execution_count": 117,
   "metadata": {},
   "outputs": [],
   "source": [
    "ksenticnet = dict()\n",
    "similarity_dict = dict()"
   ]
  },
  {
   "cell_type": "code",
   "execution_count": 122,
   "metadata": {},
   "outputs": [],
   "source": [
    "similarity_matrix = load_similarities(target_emb)"
   ]
  },
  {
   "cell_type": "code",
   "execution_count": 127,
   "metadata": {},
   "outputs": [
    {
     "data": {
      "text/plain": [
       "<matplotlib.image.AxesImage at 0x21e7bbda470>"
      ]
     },
     "execution_count": 127,
     "metadata": {},
     "output_type": "execute_result"
    },
    {
     "data": {
      "image/png": "[encoded data removed]",
      "text/plain": [
       "<Figure size 432x288 with 1 Axes>"
      ]
     },
     "metadata": {
      "needs_background": "light"
     },
     "output_type": "display_data"
    }
   ],
   "source": [
    "import matplotlib.pyplot as plt\n",
    "%matplotlib inline\n",
    "plt.imshow(similarity_matrix)"
   ]
  },
  {
   "cell_type": "code",
   "execution_count": 128,
   "metadata": {},
   "outputs": [],
   "source": [
    "word_idx = word_dict"
   ]
  },
  {
   "cell_type": "code",
   "execution_count": 129,
   "metadata": {},
   "outputs": [],
   "source": [
    "idx_word = index_to_word(word_idx)"
   ]
  },
  {
   "cell_type": "code",
   "execution_count": 132,
   "metadata": {},
   "outputs": [],
   "source": [
    "korean_wordnet_path = 'kwn_1.0/kwn_synset_list.tsv'"
   ]
  },
  {
   "cell_type": "code",
   "execution_count": 134,
   "metadata": {},
   "outputs": [],
   "source": [
    "# step 1: make word-synset dict\n",
    "word_synset_dict = dict()\n",
    "with open(korean_wordnet_path, 'r', encoding='utf-8') as f:\n",
    "    lines = f.read().split('\\n')[1:]\n",
    "    for line in lines:\n",
    "        words = line.split('\\t')[2].replace(' ', '').split(',')\n",
    "        offset = line.split('\\t')[0]\n",
    "        for word in words:\n",
    "            if word not in word_synset_dict:\n",
    "                word_synset_dict[word] = [offset]\n",
    "            else:\n",
    "                word_synset_dict[word].append(offset)"
   ]
  },
  {
   "cell_type": "code",
   "execution_count": 137,
   "metadata": {},
   "outputs": [],
   "source": [
    "# step 2: make synset-sentic dict\n",
    "with open('vocabulary/affectnet_dict.pkl', 'rb') as f:\n",
    "    aff_fr_dict = pickle.load(f)\n",
    "fr_offset_dict = dict()\n",
    "offset_sentic_dict = dict()\n",
    "deleted_offset = []"
   ]
  },
  {
   "cell_type": "code",
   "execution_count": 151,
   "metadata": {},
   "outputs": [
    {
     "name": "stdout",
     "output_type": "stream",
     "text": [
      "['00003553-n', '05869584-n']\n"
     ]
    },
    {
     "data": {
      "text/plain": [
       "[Synset('whole.n.02'), Synset('whole.n.01')]"
      ]
     },
     "execution_count": 151,
     "metadata": {},
     "output_type": "execute_result"
    }
   ],
   "source": [
    "print(word_synset_dict['whole'])\n",
    "synsets = [\n",
    "    wn.synset_from_pos_and_offset(synset_id[-1], int(synset_id[:8].lstrip('0'))) \n",
    "    for synset_id in word_synset_dict['whole']]\n",
    "synsets"
   ]
  },
  {
   "cell_type": "code",
   "execution_count": 154,
   "metadata": {},
   "outputs": [
    {
     "data": {
      "text/plain": [
       "[<__main__.Hypernyms at 0x21ebc3ba8d0>, <__main__.Hypernyms at 0x21ebc3ba550>]"
      ]
     },
     "execution_count": 154,
     "metadata": {},
     "output_type": "execute_result"
    }
   ],
   "source": [
    "[Hypernyms('whole', synset) for synset in synsets]"
   ]
  },
  {
   "cell_type": "code",
   "execution_count": 162,
   "metadata": {},
   "outputs": [
    {
     "data": {
      "text/plain": [
       "['whole', 'unit']"
      ]
     },
     "execution_count": 162,
     "metadata": {},
     "output_type": "execute_result"
    }
   ],
   "source": [
    "[lemma.name().lower() for lemma in synsets[0].lemmas()]"
   ]
  },
  {
   "cell_type": "code",
   "execution_count": 163,
   "metadata": {},
   "outputs": [
    {
     "data": {
      "text/plain": [
       "[Synset('object.n.01')]"
      ]
     },
     "execution_count": 163,
     "metadata": {},
     "output_type": "execute_result"
    }
   ],
   "source": [
    "l1 = synsets[0].hypernyms()\n",
    "l1"
   ]
  },
  {
   "cell_type": "code",
   "execution_count": 167,
   "metadata": {},
   "outputs": [
    {
     "data": {
      "text/plain": [
       "['object', 'physical_object']"
      ]
     },
     "execution_count": 167,
     "metadata": {},
     "output_type": "execute_result"
    }
   ],
   "source": [
    "[lemma.name().lower() for lemma in l1[0].lemmas()]"
   ]
  },
  {
   "cell_type": "code",
   "execution_count": null,
   "metadata": {},
   "outputs": [],
   "source": [
    "for word in word_synset_dict:\n",
    "    if word not in senticnet:\n",
    "        continue\n",
    "    found = False\n",
    "    synsets = [wn.synset_from_pos_and_offset(synset_id[-1], int(synset_id[:8].lstrip('0')))\n",
    "               for synset_id in word_synset_dict[word]]\n",
    "    num_synsets = len(synsets)\n",
    "    hypernyms = [Hypernyms(word, synset) for synset in synsets]\n",
    "    for i in range(4): # hypernyms levels\n",
    "        for j in range(num_synsets):\n",
    "            offset = word_synset_dict[word][j]\n",
    "            if offset in deleted_offset:\n",
    "                continue\n",
    "            for hypernym in hypernyms[j].level[i]:\n",
    "                if hypernym not in senticnet[word]:\n",
    "                    continue\n",
    "                \n",
    "                # hypernym is in semantics so, the synset could the meaning of the word\n",
    "                if offset not in offset_sentic_dict:\n",
    "                    offset_sentic_dict[offset] = sentic\n",
    "                        "
   ]
  }
 ],
 "metadata": {
  "kernelspec": {
   "display_name": "basic",
   "language": "python",
   "name": "basic"
  },
  "language_info": {
   "codemirror_mode": {
    "name": "ipython",
    "version": 3
   },
   "file_extension": ".py",
   "mimetype": "text/x-python",
   "name": "python",
   "nbconvert_exporter": "python",
   "pygments_lexer": "ipython3",
   "version": "3.6.9"
  }
 },
 "nbformat": 4,
 "nbformat_minor": 2
}
