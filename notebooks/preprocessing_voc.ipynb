{
 "cells": [
  {
   "cell_type": "code",
   "execution_count": 1,
   "metadata": {},
   "outputs": [],
   "source": [
    "import re\n",
    "from collections import defaultdict\n",
    "\n",
    "import numpy as np\n",
    "import pandas as pd"
   ]
  },
  {
   "cell_type": "code",
   "execution_count": 33,
   "metadata": {},
   "outputs": [],
   "source": [
    "df = pd.read_excel('C:/Users/jinma/바탕 화면/sample10.xlsx')"
   ]
  },
  {
   "cell_type": "code",
   "execution_count": 34,
   "metadata": {},
   "outputs": [],
   "source": [
    "df = df.applymap(lambda x : re.sub('\\n', ' ', x))"
   ]
  },
  {
   "cell_type": "code",
   "execution_count": 35,
   "metadata": {},
   "outputs": [],
   "source": [
    "sep = 'l'"
   ]
  },
  {
   "cell_type": "code",
   "execution_count": 41,
   "metadata": {},
   "outputs": [],
   "source": [
    "patterns = re.compile('([AC])\\w+([ *ㄱ-ㅎㅏ-ㅣ가-힣])+')\n",
    "result = defaultdict(list)\n",
    "for (ix, text) in enumerate(df['STT_RESULT']):\n",
    "    for s in patterns.finditer(text):\n",
    "        res = {}\n",
    "        s = s.group().strip().split(sep)\n",
    "        res['speaker'], res['start'], res['end'], res['text'] = s\n",
    "        result[ix].append(res)"
   ]
  },
  {
   "cell_type": "code",
   "execution_count": 42,
   "metadata": {},
   "outputs": [
    {
     "data": {
      "text/plain": [
       "[{'speaker': 'A', 'start': '243', 'end': '450', 'text': '미소로 말하는 김선화 입니다'},\n",
       " {'speaker': 'C', 'start': '516', 'end': '588', 'text': '여보세요'},\n",
       " {'speaker': 'A', 'start': '597', 'end': '750', 'text': '네안녕하세요 고객님'},\n",
       " {'speaker': 'C',\n",
       "  'start': '768',\n",
       "  'end': '1068',\n",
       "  'text': '네 그 보험금 청구 하려고 하는데요'},\n",
       " {'speaker': 'A', 'start': '1068', 'end': '1140', 'text': '네'},\n",
       " {'speaker': 'C',\n",
       "  'start': '1155',\n",
       "  'end': '2571',\n",
       "  'text': '그 일반 그냥 단순 감기로 와서 두건 검사만 한거 라서 따로 뭐 진단서 라든지 그런게 없는데 그 예보 로 신청 하려고 했더니 그게 계속 필수 서류인데 등록이 안됐다고 나와서요'},\n",
       " {'speaker': 'A',\n",
       "  'start': '2577',\n",
       "  'end': '3324',\n",
       "  'text': ' 아 네 그 진단서는 아니시더라도 일반적으로 삼만원 이제 위임 이상 청구 건이십니까 이하 이십니까'},\n",
       " {'speaker': 'C', 'start': '3369', 'end': '3489', 'text': '삼만원 이상 이요'},\n",
       " {'speaker': 'A',\n",
       "  'start': '3504',\n",
       "  'end': '4530',\n",
       "  'text': '아 이상 이시 라고 한다면 그 질병 분류 번호가 기재 되어있는 처방전이 필수 첨부 이기 때문에 그 항목 에다가는 처방전 을 사진을 올려 주시면 되세요 고객님'},\n",
       " {'speaker': 'C', 'start': '4566', 'end': '4650', 'text': '처방전 이요'},\n",
       " {'speaker': 'A', 'start': '4659', 'end': '4737', 'text': '네'},\n",
       " {'speaker': 'C',\n",
       "  'start': '4752',\n",
       "  'end': '4974',\n",
       "  'text': ' 약국에서 받은 거 말씀하시는거죠'},\n",
       " {'speaker': 'A',\n",
       "  'start': '4989',\n",
       "  'end': '5349',\n",
       "  'text': '약국에서 번 이거 아니 그 처방전은 병원에서 받는 거에요 고객님'},\n",
       " {'speaker': 'C',\n",
       "  'start': '5583',\n",
       "  'end': '6083',\n",
       "  'text': '아 그럼 처방전은 또 그거를 사진을 찍어 된다고요 약국에 제출했던 그거 말씀하시는 거죠'},\n",
       " {'speaker': 'A',\n",
       "  'start': '6102',\n",
       "  'end': '6690',\n",
       "  'text': '네 약국 제출용 범용 말고 고객 보관용 으로 병원을 한장 더 네 고객님 출력 해주실수 있거든요'},\n",
       " {'speaker': 'C', 'start': '6723', 'end': '6765', 'text': '네'},\n",
       " {'speaker': 'A',\n",
       "  'start': '6786',\n",
       "  'end': '7422',\n",
       "  'text': '네 질병 분류 번호가 기재 되어있는 처방전 으로 전원주 사진을 저희쪽에 첨부 해주시면 됩니다'},\n",
       " {'speaker': 'C', 'start': '7476', 'end': '7704', 'text': '아 질병 번호가 있는걸로 요'},\n",
       " {'speaker': 'A', 'start': '7704', 'end': '7776', 'text': '네'},\n",
       " {'speaker': 'C', 'start': '7827', 'end': '7923', 'text': ' 아'},\n",
       " {'speaker': 'C',\n",
       "  'start': '8088',\n",
       "  'end': '8988',\n",
       "  'text': '아 여기는 없네 그러면 진료비 계산서 영수증은 두번째 그거 에다가 하는거고 그거를 처방전에 받아보신 첫번째 걸 내야 되는 거라구요'},\n",
       " {'speaker': 'A', 'start': '8664', 'end': '8694', 'text': ' 네'},\n",
       " {'speaker': 'A', 'start': '8952', 'end': '9090', 'text': '네 맞으세요'},\n",
       " {'speaker': 'C', 'start': '9108', 'end': '9270', 'text': '그 두개만 금 하면 되는거죠'},\n",
       " {'speaker': 'A', 'start': '9282', 'end': '9381', 'text': '네 맞습니다'},\n",
       " {'speaker': 'C', 'start': '9399', 'end': '9558', 'text': '아 알겠습니다'},\n",
       " {'speaker': 'A',\n",
       "  'start': '9561',\n",
       "  'end': '9954',\n",
       "  'text': '네 아 고객님 혹시 진료비 세부내역서 도 혹시 발급 받으셨어요'},\n",
       " {'speaker': 'C', 'start': '9708', 'end': '9738', 'text': '네'},\n",
       " {'speaker': 'C', 'start': '10011', 'end': '10143', 'text': '세부 내역서 는 안받았는데'},\n",
       " {'speaker': 'C', 'start': '10230', 'end': '10350', 'text': '세부 내역서 네 있어야 되요'},\n",
       " {'speaker': 'A', 'start': '10251', 'end': '10303', 'text': '삼만원'},\n",
       " {'speaker': 'A',\n",
       "  'start': '10368',\n",
       "  'end': '10566',\n",
       "  'text': '네 비급여 항목이 있지 않으세요'},\n",
       " {'speaker': 'C', 'start': '10623', 'end': '10716', 'text': '음 네 있어요'},\n",
       " {'speaker': 'A',\n",
       "  'start': '10737',\n",
       "  'end': '11391',\n",
       "  'text': '네 그러면 진료비 세부내역서 가 필수 서류 인데요 혹시 고객님 통원 하시는 기본서류 대해서 안내는 아직 못 받아 보셨습니까'},\n",
       " {'speaker': 'C', 'start': '11043', 'end': '11070', 'text': '네'},\n",
       " {'speaker': 'C',\n",
       "  'start': '11427',\n",
       "  'end': '11892',\n",
       "  'text': '네 항상 이것만 해도 되죠 때문 이거 했는데 이거는 예비 바꼈 더라고요'},\n",
       " {'speaker': 'A',\n",
       "  'start': '11892',\n",
       "  'end': '12942',\n",
       "  'text': '아 네 저희가 기본 서류에 대한 부분이 변경이 되어서 제가 지금 전화주신 번호로 필수 서류에 대한 부분 한번더 문자로 참고적으로 발송을 해드릴 테니 한번 참고해 주시면 되겠습니다'},\n",
       " {'speaker': 'C', 'start': '12957', 'end': '13095', 'text': '네 알겠습니다'},\n",
       " {'speaker': 'A', 'start': '13098', 'end': '13284', 'text': ' 감사합니다 임선아 였습니다'},\n",
       " {'speaker': 'C', 'start': '13263', 'end': '13317', 'text': '네'}]"
      ]
     },
     "execution_count": 42,
     "metadata": {},
     "output_type": "execute_result"
    }
   ],
   "source": [
    "result[1]"
   ]
  },
  {
   "cell_type": "code",
   "execution_count": null,
   "metadata": {},
   "outputs": [],
   "source": []
  }
 ],
 "metadata": {
  "kernelspec": {
   "display_name": "basic",
   "language": "python",
   "name": "basic"
  },
  "language_info": {
   "codemirror_mode": {
    "name": "ipython",
    "version": 3
   },
   "file_extension": ".py",
   "mimetype": "text/x-python",
   "name": "python",
   "nbconvert_exporter": "python",
   "pygments_lexer": "ipython3",
   "version": "3.6.9"
  }
 },
 "nbformat": 4,
 "nbformat_minor": 2
}
