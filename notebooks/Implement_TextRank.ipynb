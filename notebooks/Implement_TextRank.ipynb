{
 "cells": [
  {
   "cell_type": "code",
   "execution_count": 7,
   "metadata": {},
   "outputs": [],
   "source": [
    "from newspaper import Article\n",
    "url = 'https://finance.naver.com/news/news_read.nhn?article_id=0004330323&office_id=008&mode=mainnews&type=&date=2019-12-26&page=1'"
   ]
  },
  {
   "cell_type": "code",
   "execution_count": 8,
   "metadata": {},
   "outputs": [],
   "source": [
    "a = Article(url, language='ko')"
   ]
  },
  {
   "cell_type": "code",
   "execution_count": 9,
   "metadata": {},
   "outputs": [],
   "source": [
    "a.download()\n",
    "a.parse()"
   ]
  },
  {
   "cell_type": "code",
   "execution_count": 10,
   "metadata": {},
   "outputs": [
    {
     "name": "stdout",
     "output_type": "stream",
     "text": [
      "네이버 금융\n"
     ]
    }
   ],
   "source": [
    "print(a.title)"
   ]
  },
  {
   "cell_type": "code",
   "execution_count": 11,
   "metadata": {},
   "outputs": [
    {
     "name": "stdout",
     "output_type": "stream",
     "text": [
      "(워싱턴 AFP=뉴스1) 우동명 기자 = 도널드 트럼프 미국 대통령 © AFP=뉴스1 <저작권자 © 뉴스1코리아, 무단전재 및 재배포 금지> (워싱턴 AFP=뉴스1) 우동명 기자 = 도널드 트럼프 미국 대통령 © AFP=뉴스1\n",
      "\n",
      "▶최현석, 레스토랑 '조용히' 떠난 이유\n",
      "\n",
      "▶장모 명의로 바뀐 집, 이혼하면…\n",
      "\n",
      "▶네이버 구독하기\n",
      "\n",
      "[머니투데이 조준영 기자] [[개장전]\"美 단기 과열신호 켜졌지만 강세장 종료 신호는 아냐\"]크리스마스를 하루 앞둔 지난 24일(현지시간) 뉴욕증시는 혼조세로 마감했다. 도널드 트럼프 미국 대통령이 미중 1단계 무역합의를 연내 공식 서명하겠다는 방침을 밝히고 리커창 중국 총리도 은행 지급준비율(RRR·지준율) 인하를 시시하는 등 호재가 잇따랐지만 최근 주가급등에 따른 부담감이 시장을 주춤하게 한 것으로 보인다.이날 뉴욕증시에서 블루칩(우량주) 클럽인 다우존스산업평균지수는 전날보다 36.08포인트(0.13%) 떨어진 2만8515.45에 거래를 마쳤다. 대형주 위주의 S&P(스탠다드앤푸어스) 500 지수는 0.63포인트(0.02%) 내린 3223.38을 기록했다.반면 기술주 중심의 나스닥종합지수는 7.24포인트(0.08%) 오른 8952.88에 마감하며 9거래일 연속 사상최고치를 경신했다. 1998년 이후 20여년만에 최장기간 연속 신고가 기록이다.한편 리커창 총리는 이날 쓰촨성 청두에서 현지 은행을 시찰하던 중 \"추가적으로 전면적 지준율 인하와 선별적 지준율 인하를 검토할 것\"이라며 \"이를 통해 중소기업들의 자금난을 가시적으로 완화하겠다\"고 말했다.지준율은 은행들이 고객들로부터 받은 예금 가운데 중앙은행에 의무적으로 적립해야 하는 비율을 말한다. 지준율이 낮아지면 은행이 대출에 쓸 수 있는 자금이 늘어나면서 시중에 더 많은 돈이 풀리게 된다.미중간 우호적인 분위기가 이어지고 있지만 지나친 주가급등을 경계하는 목소리도 적잖다. 실적 대비 주가상승 속도가 가파르다는 설명이다.오태동 NH투자증권 투자전략부장은 \"미국 주식시장의 위험 선호심리는 이미 과열국면에 진입한 모습\"이라며 \"실적 상향조정이 나타나지 않는다면 미국 주식시장은 상승속도가 둔화될 가능성이 높다\"면서도 장기랠리의 종료신호는 아니라고 밝혔다.오 부장은 \"최근 S&P500지수의 밸류에이션은 1901년 이후 120년 역사동안 상위 4.7%에 해당한다. 다만 밸류에이션이 높다고 장기랠리가 종료되는 것은 아니다\"며 \"밸류에이션 부담이 대규모 차익실현과 약세장을 촉발하기 위해서는 경기하락이나 금리급등으로 밸류에이션 훼손이 발생해야 한다\"고 설명했다.반면 내년부터 신흥국들의 위험 선호심리가 반영될 여지는 많다고 설명했다. 오 부장은 \"신흥국은 지난 2018~2019년동안의 과도한 위험 회피심리에서 벗어나는 단계\"라며 \"KOSPI(유가증권시장)는 2018년 초부터 지속된 하락채널에서 벗어나 상승채널로 진입했다. 이제 투자자의 관심은 △미국 주식시장의 과열신호 어떻게 해석할지 △신흥국 주식시장이 초과성과 낼 수 있을지 △이번 강세장 언제까지 이어질지 등으로 바뀌고 있다\"고 밝혔다.조준영 기자 cho@mt.co.kr\n"
     ]
    }
   ],
   "source": [
    "print(a.text)"
   ]
  },
  {
   "cell_type": "code",
   "execution_count": 12,
   "metadata": {},
   "outputs": [],
   "source": [
    "from konlpy.tag import Kkma, Okt\n",
    "from sklearn.feature_extraction.text import TfidfVectorizer, CountVectorizer\n",
    "from sklearn.preprocessing import normalize\n",
    "import numpy as np"
   ]
  },
  {
   "cell_type": "code",
   "execution_count": 13,
   "metadata": {},
   "outputs": [],
   "source": [
    "# 텍스트 크롤링 > 문장 단위 분리 > 명사 추출\n",
    "class SentenceTokenizer:\n",
    "    \n",
    "    def __init__(self):\n",
    "        self.kkma = Kkma()\n",
    "        self.okt = Okt()\n",
    "        self.stopwords = ['중인' ,'만큼', '마찬가지', '꼬집었', \"연합뉴스\", \"데일리\", \"동아일보\", \n",
    "                          \"중앙일보\", \"조선일보\", \"기자\" ,\"아\", \"휴\", \"아이구\", \"아이쿠\", \"아이고\", \n",
    "                          \"어\", \"나\", \"우리\", \"저희\", \"따라\", \"의해\", \"을\", \"를\", \"에\", \"의\", \"가\",]\n",
    "    \n",
    "    def url2sentences(self, url):\n",
    "        article = Article(url, language='ko')\n",
    "        article.download()\n",
    "        article.parse()\n",
    "        sentences = self.kkma.sentences(article.text)\n",
    "        for idx in range(len(sentences)):\n",
    "            if len(sentences[idx]) <= 10:\n",
    "                sentences[idx-1] += (' ' + sentences[idx])\n",
    "                sentences[idx] = ''\n",
    "        return sentences\n",
    "    \n",
    "    def text2sentences(self, text):\n",
    "        sentences = self.kkma.sentences(text)\n",
    "        for idx in range(len(sentences)):\n",
    "            if len(sentences[idx]) <= 10:\n",
    "                sentences[idx-1] += (' ' + sentences[idx])\n",
    "                sentences[idx] = ''\n",
    "        return sentences\n",
    "    \n",
    "    def get_nouns(self, sentences):\n",
    "        nouns = []\n",
    "        for sentence in sentences:\n",
    "            if sentence is not '':\n",
    "                nouns.append(' '.join([noun for noun in self.okt.nouns(str(sentence))\n",
    "                                       if noun not in self.stopwords and len(noun) > 1]))\n",
    "        return nouns"
   ]
  },
  {
   "cell_type": "code",
   "execution_count": 14,
   "metadata": {},
   "outputs": [],
   "source": [
    "class GraphMatrix:\n",
    "    \n",
    "    def __init__(self):\n",
    "        self.tfidf = TfidfVectorizer()\n",
    "        self.cnt_vec = CountVectorizer()\n",
    "        self.graph_sentence = []\n",
    "        \n",
    "    def build_sent_graph(self, sentence):\n",
    "        tfidf_mat = self.tfidf.fit_transform(sentence).toarray()\n",
    "        self.graph_sentence = np.dot(tfidf_mat, tfidf_mat.T)\n",
    "        return self.graph_sentence\n",
    "    \n",
    "    def build_word_graph(self, sentence):\n",
    "        cnt_vec_mat = normalize(self.cnt_vec.fit_transform(sentence).toarray().astype(float), axis=0)\n",
    "        vocab = self.cnt_vec.vocabulary_\n",
    "        return np.dot(cnt_vec_mat.T, cnt_vec_mat), {vocab[word] : word for word in vocab}"
   ]
  },
  {
   "cell_type": "code",
   "execution_count": null,
   "metadata": {},
   "outputs": [],
   "source": []
  }
 ],
 "metadata": {
  "kernelspec": {
   "display_name": "basic",
   "language": "python",
   "name": "basic"
  },
  "language_info": {
   "codemirror_mode": {
    "name": "ipython",
    "version": 3
   },
   "file_extension": ".py",
   "mimetype": "text/x-python",
   "name": "python",
   "nbconvert_exporter": "python",
   "pygments_lexer": "ipython3",
   "version": "3.6.9"
  }
 },
 "nbformat": 4,
 "nbformat_minor": 2
}
