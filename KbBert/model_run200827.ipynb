{
 "cells": [
  {
   "cell_type": "code",
   "execution_count": 4,
   "metadata": {},
   "outputs": [],
   "source": [
    "import os\n",
    "import sys\n",
    "\n",
    "from dataclasses import dataclass, field\n",
    "import numpy as np\n",
    "\n",
    "sys.path.insert(0, os.path.abspath('../kb-albert-char'))\n",
    "sys.path.insert(1, os.path.abspath('../kb-albert-char/examples'))\n",
    "\n",
    "from transformers import AlbertModel\n",
    "from tokenization_kbalbert import KbAlbertCharTokenizer"
   ]
  },
  {
   "cell_type": "code",
   "execution_count": 5,
   "metadata": {},
   "outputs": [],
   "source": [
    "kb_albert_model_path = '../kb-albert-model'\n",
    "tokenizer = KbAlbertCharTokenizer.from_pretrained(kb_albert_model_path)"
   ]
  },
  {
   "cell_type": "code",
   "execution_count": 6,
   "metadata": {},
   "outputs": [],
   "source": [
    "text = '방카슈랑스는 금융의 겸업화 추세에 부응하여 금융산업의 선진화를 도모하고 금융소비자의 편익을 위하여 도입되었습니다.'"
   ]
  },
  {
   "cell_type": "code",
   "execution_count": 7,
   "metadata": {},
   "outputs": [],
   "source": [
    "pt_model = AlbertModel.from_pretrained(kb_albert_model_path)\n",
    "pt_inputs = tokenizer(text, return_tensors='pt')\n",
    "pt_outputs = pt_model(**pt_inputs)[0]"
   ]
  },
  {
   "cell_type": "code",
   "execution_count": 8,
   "metadata": {},
   "outputs": [
    {
     "data": {
      "text/plain": [
       "torch.Size([1, 54])"
      ]
     },
     "execution_count": 8,
     "metadata": {},
     "output_type": "execute_result"
    }
   ],
   "source": [
    "pt_inputs['input_ids'].size()"
   ]
  },
  {
   "cell_type": "code",
   "execution_count": 9,
   "metadata": {},
   "outputs": [
    {
     "data": {
      "text/plain": [
       "torch.Size([1, 54, 768])"
      ]
     },
     "execution_count": 9,
     "metadata": {},
     "output_type": "execute_result"
    }
   ],
   "source": [
    "pt_outputs.size()"
   ]
  },
  {
   "cell_type": "code",
   "execution_count": 10,
   "metadata": {},
   "outputs": [
    {
     "data": {
      "text/plain": [
       "tensor([[[-0.2424, -0.1150,  0.1739,  ..., -0.1104, -0.2521, -0.2343],\n",
       "         [-0.2398,  0.6024,  0.2140,  ..., -0.1003, -0.0811, -0.3387],\n",
       "         [-0.0628,  0.1722, -0.2954,  ...,  0.0260, -0.1288, -0.0367],\n",
       "         ...,\n",
       "         [ 0.0406, -0.0463,  0.0175,  ..., -0.0016, -0.0636,  0.0402],\n",
       "         [ 0.1111, -0.2125,  0.0141,  ...,  0.1380, -0.1252, -0.0849],\n",
       "         [ 0.0406, -0.0463,  0.0175,  ..., -0.0016, -0.0636,  0.0402]]],\n",
       "       grad_fn=<NativeLayerNormBackward>)"
      ]
     },
     "execution_count": 10,
     "metadata": {},
     "output_type": "execute_result"
    }
   ],
   "source": [
    "pt_outputs"
   ]
  }
 ],
 "metadata": {
  "kernelspec": {
   "display_name": "basic",
   "language": "python",
   "name": "basic"
  },
  "language_info": {
   "codemirror_mode": {
    "name": "ipython",
    "version": 3
   },
   "file_extension": ".py",
   "mimetype": "text/x-python",
   "name": "python",
   "nbconvert_exporter": "python",
   "pygments_lexer": "ipython3",
   "version": "3.6.9"
  }
 },
 "nbformat": 4,
 "nbformat_minor": 4
}
